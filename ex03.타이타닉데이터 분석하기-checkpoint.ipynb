{
 "cells": [
  {
   "cell_type": "markdown",
   "id": "74cff1b2-9793-494d-be09-2d545a0852ec",
   "metadata": {},
   "source": [
    "# 목표\n",
    "- 타이타닉 데이터를 학습해서 생존/사망 예측해보자\n",
    "- 머신러닝의 전체 과정을 진행해보자!"
   ]
  },
  {
   "cell_type": "markdown",
   "id": "1c456872-2c14-4b92-8831-042d9efb196f",
   "metadata": {},
   "source": [
    "# 머신러닝 전체 과정 (7단계)\n",
    "1) 문제 정의\n",
    "2) 데이터 수집, 파일 다운 or 크롤링 or DB에 저장된 데이터 or 설문 survey\n",
    "3) 데이터 전처리 작업\n",
    "4) EDA (탐색적 데이터 분석)\n",
    "5) 모델 선택 및 하이퍼 파라미터 조정\n",
    "6) 모델 학습\n",
    "7) 모델 평가"
   ]
  },
  {
   "cell_type": "markdown",
   "id": "6a1bf39b-6cf5-4076-b0bf-c208de231945",
   "metadata": {},
   "source": [
    "## 1. 문제 정의\n",
    "- Kaggle에서 제공하는 titanic 데이터를 사용해 승객의 생존 여부를 예측\n",
    "- 지도 학습 (train.csv - Survived)\n",
    "- Survived 컬럼의 데이터 값은 수치형이지만 0, 1로 생존 여부만 구분하고 있기 때문에 우선 순위는 없음\n",
    "- 지도 학습 (분류) "
   ]
  },
  {
   "cell_type": "code",
   "execution_count": 1,
   "id": "b8a67bf8-7224-441b-9e71-2529cb5f0b85",
   "metadata": {},
   "outputs": [],
   "source": [
    "# 필요한 라이브러리 가져오기\n",
    "import numpy as np\n",
    "import pandas as pd\n",
    "import matplotlib.pyplot as plt\n",
    "import seaborn as sns # 시각화 도구"
   ]
  },
  {
   "cell_type": "markdown",
   "id": "724284bc-7256-4d9f-9547-6c9007d86685",
   "metadata": {},
   "source": [
    "## 2. 데이터 수집\n",
    "- 실습1. 타이타닉 train 데이터와 test 데이터를 변수 train, test에 저장하기\n",
    "(PassengerId 컬럼을 인덱스로 설정해서 불러오기)"
   ]
  },
  {
   "cell_type": "code",
   "execution_count": 2,
   "id": "9b459a1f-e4f2-49cd-9f83-e3efb1008be1",
   "metadata": {},
   "outputs": [
    {
     "data": {
      "text/html": [
       "<div>\n",
       "<style scoped>\n",
       "    .dataframe tbody tr th:only-of-type {\n",
       "        vertical-align: middle;\n",
       "    }\n",
       "\n",
       "    .dataframe tbody tr th {\n",
       "        vertical-align: top;\n",
       "    }\n",
       "\n",
       "    .dataframe thead th {\n",
       "        text-align: right;\n",
       "    }\n",
       "</style>\n",
       "<table border=\"1\" class=\"dataframe\">\n",
       "  <thead>\n",
       "    <tr style=\"text-align: right;\">\n",
       "      <th></th>\n",
       "      <th>Survived</th>\n",
       "      <th>Pclass</th>\n",
       "      <th>Name</th>\n",
       "      <th>Sex</th>\n",
       "      <th>Age</th>\n",
       "      <th>SibSp</th>\n",
       "      <th>Parch</th>\n",
       "      <th>Ticket</th>\n",
       "      <th>Fare</th>\n",
       "      <th>Cabin</th>\n",
       "      <th>Embarked</th>\n",
       "    </tr>\n",
       "    <tr>\n",
       "      <th>PassengerId</th>\n",
       "      <th></th>\n",
       "      <th></th>\n",
       "      <th></th>\n",
       "      <th></th>\n",
       "      <th></th>\n",
       "      <th></th>\n",
       "      <th></th>\n",
       "      <th></th>\n",
       "      <th></th>\n",
       "      <th></th>\n",
       "      <th></th>\n",
       "    </tr>\n",
       "  </thead>\n",
       "  <tbody>\n",
       "    <tr>\n",
       "      <th>1</th>\n",
       "      <td>0</td>\n",
       "      <td>3</td>\n",
       "      <td>Braund, Mr. Owen Harris</td>\n",
       "      <td>male</td>\n",
       "      <td>22.0</td>\n",
       "      <td>1</td>\n",
       "      <td>0</td>\n",
       "      <td>A/5 21171</td>\n",
       "      <td>7.2500</td>\n",
       "      <td>NaN</td>\n",
       "      <td>S</td>\n",
       "    </tr>\n",
       "    <tr>\n",
       "      <th>2</th>\n",
       "      <td>1</td>\n",
       "      <td>1</td>\n",
       "      <td>Cumings, Mrs. John Bradley (Florence Briggs Th...</td>\n",
       "      <td>female</td>\n",
       "      <td>38.0</td>\n",
       "      <td>1</td>\n",
       "      <td>0</td>\n",
       "      <td>PC 17599</td>\n",
       "      <td>71.2833</td>\n",
       "      <td>C85</td>\n",
       "      <td>C</td>\n",
       "    </tr>\n",
       "    <tr>\n",
       "      <th>3</th>\n",
       "      <td>1</td>\n",
       "      <td>3</td>\n",
       "      <td>Heikkinen, Miss. Laina</td>\n",
       "      <td>female</td>\n",
       "      <td>26.0</td>\n",
       "      <td>0</td>\n",
       "      <td>0</td>\n",
       "      <td>STON/O2. 3101282</td>\n",
       "      <td>7.9250</td>\n",
       "      <td>NaN</td>\n",
       "      <td>S</td>\n",
       "    </tr>\n",
       "    <tr>\n",
       "      <th>4</th>\n",
       "      <td>1</td>\n",
       "      <td>1</td>\n",
       "      <td>Futrelle, Mrs. Jacques Heath (Lily May Peel)</td>\n",
       "      <td>female</td>\n",
       "      <td>35.0</td>\n",
       "      <td>1</td>\n",
       "      <td>0</td>\n",
       "      <td>113803</td>\n",
       "      <td>53.1000</td>\n",
       "      <td>C123</td>\n",
       "      <td>S</td>\n",
       "    </tr>\n",
       "    <tr>\n",
       "      <th>5</th>\n",
       "      <td>0</td>\n",
       "      <td>3</td>\n",
       "      <td>Allen, Mr. William Henry</td>\n",
       "      <td>male</td>\n",
       "      <td>35.0</td>\n",
       "      <td>0</td>\n",
       "      <td>0</td>\n",
       "      <td>373450</td>\n",
       "      <td>8.0500</td>\n",
       "      <td>NaN</td>\n",
       "      <td>S</td>\n",
       "    </tr>\n",
       "  </tbody>\n",
       "</table>\n",
       "</div>"
      ],
      "text/plain": [
       "             Survived  Pclass  \\\n",
       "PassengerId                     \n",
       "1                   0       3   \n",
       "2                   1       1   \n",
       "3                   1       3   \n",
       "4                   1       1   \n",
       "5                   0       3   \n",
       "\n",
       "                                                          Name     Sex   Age  \\\n",
       "PassengerId                                                                    \n",
       "1                                      Braund, Mr. Owen Harris    male  22.0   \n",
       "2            Cumings, Mrs. John Bradley (Florence Briggs Th...  female  38.0   \n",
       "3                                       Heikkinen, Miss. Laina  female  26.0   \n",
       "4                 Futrelle, Mrs. Jacques Heath (Lily May Peel)  female  35.0   \n",
       "5                                     Allen, Mr. William Henry    male  35.0   \n",
       "\n",
       "             SibSp  Parch            Ticket     Fare Cabin Embarked  \n",
       "PassengerId                                                          \n",
       "1                1      0         A/5 21171   7.2500   NaN        S  \n",
       "2                1      0          PC 17599  71.2833   C85        C  \n",
       "3                0      0  STON/O2. 3101282   7.9250   NaN        S  \n",
       "4                1      0            113803  53.1000  C123        S  \n",
       "5                0      0            373450   8.0500   NaN        S  "
      ]
     },
     "execution_count": 2,
     "metadata": {},
     "output_type": "execute_result"
    }
   ],
   "source": [
    "train = pd.read_csv('data/train.csv', index_col = 'PassengerId')\n",
    "test = pd.read_csv('data/test.csv', index_col = 'PassengerId')\n",
    "train.head()\n",
    "# test.head()\n",
    "# head는 기본적으로 5개의 데이터만 보여줌. 괄호 안 숫자 지정하면 그 수만큼의 데이터 확인 가능"
   ]
  },
  {
   "cell_type": "code",
   "execution_count": 3,
   "id": "6696458a-d30b-4380-af07-a63ec0f97f58",
   "metadata": {},
   "outputs": [
    {
     "name": "stdout",
     "output_type": "stream",
     "text": [
      "훈련 데이터 셋 크기:  (891, 11)\n",
      "테스트 데이터 셋 크기:  (418, 10)\n"
     ]
    }
   ],
   "source": [
    "# 데이터 크기 확인\n",
    "print('훈련 데이터 셋 크기: ', train.shape)\n",
    "print('테스트 데이터 셋 크기: ', test.shape) #survived (= 정답, y_test)가 없는 상태로 진행함. "
   ]
  },
  {
   "cell_type": "markdown",
   "id": "242ddcec-f207-4095-8f5c-567be5b005a7",
   "metadata": {},
   "source": [
    "## 3. 데이터 전처리 및 데이터 탐색"
   ]
  },
  {
   "cell_type": "code",
   "execution_count": 4,
   "id": "95bac45b-99e4-4dfb-a59b-b778b9ff525c",
   "metadata": {},
   "outputs": [
    {
     "name": "stdout",
     "output_type": "stream",
     "text": [
      "<class 'pandas.core.frame.DataFrame'>\n",
      "Index: 891 entries, 1 to 891\n",
      "Data columns (total 11 columns):\n",
      " #   Column    Non-Null Count  Dtype  \n",
      "---  ------    --------------  -----  \n",
      " 0   Survived  891 non-null    int64  \n",
      " 1   Pclass    891 non-null    int64  \n",
      " 2   Name      891 non-null    object \n",
      " 3   Sex       891 non-null    object \n",
      " 4   Age       714 non-null    float64\n",
      " 5   SibSp     891 non-null    int64  \n",
      " 6   Parch     891 non-null    int64  \n",
      " 7   Ticket    891 non-null    object \n",
      " 8   Fare      891 non-null    float64\n",
      " 9   Cabin     204 non-null    object \n",
      " 10  Embarked  889 non-null    object \n",
      "dtypes: float64(2), int64(4), object(5)\n",
      "memory usage: 83.5+ KB\n"
     ]
    }
   ],
   "source": [
    "# 훈련 데이터 셋 정보 확인\n",
    "train.info()\n",
    "# Age, Cabin,Eembarked -> 891개가 아니니 결측치가 있는 컬럼임\n",
    "# 데이터 타입 : 숫자(정수, 실수), 문자열\n",
    "# >> 모델은 문제 데이터가 숫자인 것만 인식할 수 있음\n",
    "# 문자 > 숫자 : 인코딩 필요 (원 핫 인코딩, 레이블 인코딩)"
   ]
  },
  {
   "cell_type": "code",
   "execution_count": 5,
   "id": "123f24ed-ff48-4554-a45c-b3dfde485178",
   "metadata": {},
   "outputs": [
    {
     "name": "stdout",
     "output_type": "stream",
     "text": [
      "<class 'pandas.core.frame.DataFrame'>\n",
      "Index: 418 entries, 892 to 1309\n",
      "Data columns (total 10 columns):\n",
      " #   Column    Non-Null Count  Dtype  \n",
      "---  ------    --------------  -----  \n",
      " 0   Pclass    418 non-null    int64  \n",
      " 1   Name      418 non-null    object \n",
      " 2   Sex       418 non-null    object \n",
      " 3   Age       332 non-null    float64\n",
      " 4   SibSp     418 non-null    int64  \n",
      " 5   Parch     418 non-null    int64  \n",
      " 6   Ticket    418 non-null    object \n",
      " 7   Fare      417 non-null    float64\n",
      " 8   Cabin     91 non-null     object \n",
      " 9   Embarked  418 non-null    object \n",
      "dtypes: float64(2), int64(3), object(5)\n",
      "memory usage: 35.9+ KB\n"
     ]
    }
   ],
   "source": [
    "# 테스트용 데이터 셋 정보 확인하기\n",
    "test.info()\n",
    "# Survived 컬럼이 없다. 생존/사망 데이터가 없음\n",
    "# 결측치가 있는 컬럼 : Age, Fare, Cabin\n",
    "# 데이터 타입 : 숫자(정수, 실수), 문자열"
   ]
  },
  {
   "cell_type": "code",
   "execution_count": 6,
   "id": "85e1ba5d-c346-44f0-9650-39f65abdf2b4",
   "metadata": {},
   "outputs": [
    {
     "data": {
      "text/plain": [
       "Index(['Survived', 'Pclass', 'Name', 'Sex', 'Age', 'SibSp', 'Parch', 'Ticket',\n",
       "       'Fare', 'Cabin', 'Embarked'],\n",
       "      dtype='object')"
      ]
     },
     "execution_count": 6,
     "metadata": {},
     "output_type": "execute_result"
    }
   ],
   "source": [
    "# 컬럼 정보 정리\n",
    "# train이 가지고 있는 컬럼 출력\n",
    "train.columns\n",
    "# 'Survived' : 생존/사망 결과 값이 담긴 컬럼 (0:사망, 1:생존)\n",
    "# 'Pclass' : 승객의 등급 (1: 상위층, 2:중상위층, 3:하위층)\n",
    "# 'Name'  : 이름\n",
    "# 'Sex'   : 성별\n",
    "# 'Age'   : 나이\n",
    "# 'SibSp' : (같이 탑승한) 형제자매/배우자 수 \n",
    "# 'Parch' : (같이 탑승한) 부모/자식의 수\n",
    "# 'Ticket': 티켓의 번호\n",
    "# 'Fare'  : 요금\n",
    "# 'Cabin' : 객실 번호\n",
    "# 'Embarked' : 승선항 (S, C, Q)\n",
    "# S = Southampton , C = Cherbourg , Q = Queenstown"
   ]
  },
  {
   "cell_type": "markdown",
   "id": "b629708d-1eb9-4749-bb27-afb5cb1e0f92",
   "metadata": {},
   "source": [
    "### 결측치 채우기\n",
    "- train : Age(v), Cabin, Embarked(v)\n",
    "- test  : Age(v), Fare(v), Cabin"
   ]
  },
  {
   "cell_type": "code",
   "execution_count": 7,
   "id": "98b880b7-1d67-4dbb-bb50-40367b9f9ba2",
   "metadata": {},
   "outputs": [],
   "source": [
    "# 결측치를 채우는 방법\n",
    "# 1. 결측치가 있는 행 전체를 삭제하는 방법 \n",
    "# => 삭제하려는 데이터가 너무 많거나, 치명적이지 않은 데이터여야만 한다.\n",
    "# => 데이터가 많을 수록 과대적합을 피할 수 있는데 삭제해버리면 학습할 수 있는 데이터가 줄어들어버림\n",
    "# 2. 결측치를 다른 값(대푯값)으로 대체하는 방법\n",
    "# => 평균값, 최빈값, 중앙값 등..\n",
    "# 최빈값 : value_counts() (value의 갯수 확인 함수)\n",
    "# 평균값, 중앙값 : 기술통계량 (describe)"
   ]
  },
  {
   "cell_type": "code",
   "execution_count": 8,
   "id": "ce33be33-1391-4ac7-86c4-238d7e4b110f",
   "metadata": {},
   "outputs": [
    {
     "data": {
      "text/html": [
       "<div>\n",
       "<style scoped>\n",
       "    .dataframe tbody tr th:only-of-type {\n",
       "        vertical-align: middle;\n",
       "    }\n",
       "\n",
       "    .dataframe tbody tr th {\n",
       "        vertical-align: top;\n",
       "    }\n",
       "\n",
       "    .dataframe thead th {\n",
       "        text-align: right;\n",
       "    }\n",
       "</style>\n",
       "<table border=\"1\" class=\"dataframe\">\n",
       "  <thead>\n",
       "    <tr style=\"text-align: right;\">\n",
       "      <th></th>\n",
       "      <th>Survived</th>\n",
       "      <th>Pclass</th>\n",
       "      <th>Name</th>\n",
       "      <th>Sex</th>\n",
       "      <th>Age</th>\n",
       "      <th>SibSp</th>\n",
       "      <th>Parch</th>\n",
       "      <th>Ticket</th>\n",
       "      <th>Fare</th>\n",
       "      <th>Cabin</th>\n",
       "      <th>Embarked</th>\n",
       "    </tr>\n",
       "    <tr>\n",
       "      <th>PassengerId</th>\n",
       "      <th></th>\n",
       "      <th></th>\n",
       "      <th></th>\n",
       "      <th></th>\n",
       "      <th></th>\n",
       "      <th></th>\n",
       "      <th></th>\n",
       "      <th></th>\n",
       "      <th></th>\n",
       "      <th></th>\n",
       "      <th></th>\n",
       "    </tr>\n",
       "  </thead>\n",
       "  <tbody>\n",
       "    <tr>\n",
       "      <th>62</th>\n",
       "      <td>1</td>\n",
       "      <td>1</td>\n",
       "      <td>Icard, Miss. Amelie</td>\n",
       "      <td>female</td>\n",
       "      <td>38.0</td>\n",
       "      <td>0</td>\n",
       "      <td>0</td>\n",
       "      <td>113572</td>\n",
       "      <td>80.0</td>\n",
       "      <td>B28</td>\n",
       "      <td>NaN</td>\n",
       "    </tr>\n",
       "    <tr>\n",
       "      <th>830</th>\n",
       "      <td>1</td>\n",
       "      <td>1</td>\n",
       "      <td>Stone, Mrs. George Nelson (Martha Evelyn)</td>\n",
       "      <td>female</td>\n",
       "      <td>62.0</td>\n",
       "      <td>0</td>\n",
       "      <td>0</td>\n",
       "      <td>113572</td>\n",
       "      <td>80.0</td>\n",
       "      <td>B28</td>\n",
       "      <td>NaN</td>\n",
       "    </tr>\n",
       "  </tbody>\n",
       "</table>\n",
       "</div>"
      ],
      "text/plain": [
       "             Survived  Pclass                                       Name  \\\n",
       "PassengerId                                                                \n",
       "62                  1       1                        Icard, Miss. Amelie   \n",
       "830                 1       1  Stone, Mrs. George Nelson (Martha Evelyn)   \n",
       "\n",
       "                Sex   Age  SibSp  Parch  Ticket  Fare Cabin Embarked  \n",
       "PassengerId                                                           \n",
       "62           female  38.0      0      0  113572  80.0   B28      NaN  \n",
       "830          female  62.0      0      0  113572  80.0   B28      NaN  "
      ]
     },
     "execution_count": 8,
     "metadata": {},
     "output_type": "execute_result"
    }
   ],
   "source": [
    "# train - Embarked(승선항) 컬럼 결측치 채우기\n",
    "train['Embarked'].value_counts() #문자열은 평균값, 중앙값이 없으니 최빈값을 구함!\n",
    "# S=644, C=168, Q=77\n",
    "\n",
    "# 'Embarked' 컬럼의 결측치는?\n",
    "train['Embarked'].isnull().sum() # null값인 행들의 총합을 구함 (2)\n",
    "\n",
    "# train['Embarked'] 컬럼에서 결측치가 있는 데이터를 출력하기 \n",
    "train[train['Embarked'].isnull()] # 불리언 인덱싱"
   ]
  },
  {
   "cell_type": "code",
   "execution_count": 9,
   "id": "62d42d4c-744a-42b4-a4f0-b431b49a25d5",
   "metadata": {},
   "outputs": [],
   "source": [
    "# ** 두 데이터가 유사한 것을 확인할 수 있음!\n",
    "# => 같은 승선항에서 탔을 거라고 가정\n",
    "# 사람이 가장 많이 탑승한 장소의 승선항 값으로 채워주기 -> 최빈값\n",
    "# fillna('값') : S , 비어있는 데이터가 있다면 '값'으로 채워주는 함수\n",
    "train['Embarked'] = train['Embarked'].fillna('S') # S를 채우고 train['Embarked']에 저장"
   ]
  },
  {
   "cell_type": "code",
   "execution_count": 10,
   "id": "a311f29b-8547-4fc6-84df-d1dfd1a39fea",
   "metadata": {},
   "outputs": [
    {
     "name": "stdout",
     "output_type": "stream",
     "text": [
      "<class 'pandas.core.frame.DataFrame'>\n",
      "Index: 891 entries, 1 to 891\n",
      "Data columns (total 11 columns):\n",
      " #   Column    Non-Null Count  Dtype  \n",
      "---  ------    --------------  -----  \n",
      " 0   Survived  891 non-null    int64  \n",
      " 1   Pclass    891 non-null    int64  \n",
      " 2   Name      891 non-null    object \n",
      " 3   Sex       891 non-null    object \n",
      " 4   Age       714 non-null    float64\n",
      " 5   SibSp     891 non-null    int64  \n",
      " 6   Parch     891 non-null    int64  \n",
      " 7   Ticket    891 non-null    object \n",
      " 8   Fare      891 non-null    float64\n",
      " 9   Cabin     204 non-null    object \n",
      " 10  Embarked  891 non-null    object \n",
      "dtypes: float64(2), int64(4), object(5)\n",
      "memory usage: 83.5+ KB\n"
     ]
    }
   ],
   "source": [
    "train['Embarked'].isnull().sum()  #(0)\n",
    "# null 행의 합을 구해보니 0이 출력되는 걸 확인할 수 있다\n",
    "train.info()"
   ]
  },
  {
   "cell_type": "markdown",
   "id": "cc954e4d-b4dd-4aba-8862-2378e037ba90",
   "metadata": {},
   "source": [
    "- test : Fare 컬럼의 결측치를 채우기"
   ]
  },
  {
   "cell_type": "code",
   "execution_count": 11,
   "id": "20140b02-7a0a-4028-ae57-9a0f095cf8c0",
   "metadata": {},
   "outputs": [
    {
     "data": {
      "text/plain": [
       "count    417.000000\n",
       "mean      35.627188\n",
       "std       55.907576\n",
       "min        0.000000\n",
       "25%        7.895800\n",
       "50%       14.454200\n",
       "75%       31.500000\n",
       "max      512.329200\n",
       "Name: Fare, dtype: float64"
      ]
     },
     "execution_count": 11,
     "metadata": {},
     "output_type": "execute_result"
    }
   ],
   "source": [
    "# test 데이터 Fare를 인덱싱한 후 결측치가 존재하는 행 출력\n",
    "# isnull(), 불리언 인덱싱\n",
    "test[test['Fare'].isnull()]\n",
    "\n",
    "# 기술통계량 (describe)를 활용해 평균값과 중앙값을 확인!\n",
    "test['Fare'].describe()\n",
    "# 중앙값(50%)과 평균값(mean)이 차이가 많이 나는 이유 : 1등급 비싸서.. => 이상치 발생 위험 ↑, 중앙값을 사용하자!\n",
    "# 컬럼들끼리의 연관성 확인 필요함 ('Fare'~'Pclass')"
   ]
  },
  {
   "cell_type": "code",
   "execution_count": 12,
   "id": "9102d703-3a99-44e8-bd82-a2f214d13b85",
   "metadata": {},
   "outputs": [
    {
     "data": {
      "text/html": [
       "<div>\n",
       "<style scoped>\n",
       "    .dataframe tbody tr th:only-of-type {\n",
       "        vertical-align: middle;\n",
       "    }\n",
       "\n",
       "    .dataframe tbody tr th {\n",
       "        vertical-align: top;\n",
       "    }\n",
       "\n",
       "    .dataframe thead th {\n",
       "        text-align: right;\n",
       "    }\n",
       "</style>\n",
       "<table border=\"1\" class=\"dataframe\">\n",
       "  <thead>\n",
       "    <tr style=\"text-align: right;\">\n",
       "      <th></th>\n",
       "      <th>Pclass</th>\n",
       "      <th>Age</th>\n",
       "      <th>SibSp</th>\n",
       "      <th>Parch</th>\n",
       "      <th>Fare</th>\n",
       "    </tr>\n",
       "  </thead>\n",
       "  <tbody>\n",
       "    <tr>\n",
       "      <th>Pclass</th>\n",
       "      <td>1.000000</td>\n",
       "      <td>-0.492143</td>\n",
       "      <td>0.001087</td>\n",
       "      <td>0.018721</td>\n",
       "      <td>-0.577147</td>\n",
       "    </tr>\n",
       "    <tr>\n",
       "      <th>Age</th>\n",
       "      <td>-0.492143</td>\n",
       "      <td>1.000000</td>\n",
       "      <td>-0.091587</td>\n",
       "      <td>-0.061249</td>\n",
       "      <td>0.337932</td>\n",
       "    </tr>\n",
       "    <tr>\n",
       "      <th>SibSp</th>\n",
       "      <td>0.001087</td>\n",
       "      <td>-0.091587</td>\n",
       "      <td>1.000000</td>\n",
       "      <td>0.306895</td>\n",
       "      <td>0.171539</td>\n",
       "    </tr>\n",
       "    <tr>\n",
       "      <th>Parch</th>\n",
       "      <td>0.018721</td>\n",
       "      <td>-0.061249</td>\n",
       "      <td>0.306895</td>\n",
       "      <td>1.000000</td>\n",
       "      <td>0.230046</td>\n",
       "    </tr>\n",
       "    <tr>\n",
       "      <th>Fare</th>\n",
       "      <td>-0.577147</td>\n",
       "      <td>0.337932</td>\n",
       "      <td>0.171539</td>\n",
       "      <td>0.230046</td>\n",
       "      <td>1.000000</td>\n",
       "    </tr>\n",
       "  </tbody>\n",
       "</table>\n",
       "</div>"
      ],
      "text/plain": [
       "          Pclass       Age     SibSp     Parch      Fare\n",
       "Pclass  1.000000 -0.492143  0.001087  0.018721 -0.577147\n",
       "Age    -0.492143  1.000000 -0.091587 -0.061249  0.337932\n",
       "SibSp   0.001087 -0.091587  1.000000  0.306895  0.171539\n",
       "Parch   0.018721 -0.061249  0.306895  1.000000  0.230046\n",
       "Fare   -0.577147  0.337932  0.171539  0.230046  1.000000"
      ]
     },
     "execution_count": 12,
     "metadata": {},
     "output_type": "execute_result"
    }
   ],
   "source": [
    "# 혹시 Fare 컬럼과 연관성이 있는 컬럼이 있진 않을까?\n",
    "# => 상관관계 확인\n",
    "test.corr(numeric_only = True) # 문자열로 된 컬럼 포함\n",
    "# 소수점으로 된 숫자들은 '상관 계수' : -1 ~ 1의 범위로 표현되고 있음.\n",
    "# -1, 1에 가까울 수록 해당 컬럼과 상관이 높음, 관련성이 깊다.\n",
    "# 0에 가까울 수록 해당 컬럼과 상관이 없음을 의미\n",
    "\n",
    "# Fare 컬럼과 pclass 컬럼이 연관성이 가장 높구나 라는 판단이 가능. Fare 기준으로 -1에 가장 가까움"
   ]
  },
  {
   "cell_type": "code",
   "execution_count": 13,
   "id": "69bade0f-b53c-4b09-bd5c-a9f0e97602e0",
   "metadata": {},
   "outputs": [],
   "source": [
    "# test['Fare'] 결측치 채워주기 - Pclass : 3\n",
    "# test['Fare'] = test['Fare'].fillna(14.454200) # 50%인 중앙값을 채워줌\n",
    "# test['Fare'].isnull().sum() # 출력 결과 (0) -> 결측치를 기술통계량(describe)으로 중앙값 구해서 fillna로 채워줌!"
   ]
  },
  {
   "cell_type": "code",
   "execution_count": 14,
   "id": "916b3460-36ca-406c-833c-f51c025fcbcb",
   "metadata": {},
   "outputs": [
    {
     "data": {
      "text/plain": [
       "count    891.000000\n",
       "mean      32.204208\n",
       "std       49.693429\n",
       "min        0.000000\n",
       "25%        7.910400\n",
       "50%       14.454200\n",
       "75%       31.000000\n",
       "max      512.329200\n",
       "Name: Fare, dtype: float64"
      ]
     },
     "execution_count": 14,
     "metadata": {},
     "output_type": "execute_result"
    }
   ],
   "source": [
    "# train['Fare']를 확인해보자\n",
    "# 실제 모델이 학습을 하는 데이터는 train 데이터이기 때문\n",
    "train['Fare'].describe()"
   ]
  },
  {
   "cell_type": "code",
   "execution_count": 15,
   "id": "47b60d87-74f2-4504-bcd0-030ea69d3065",
   "metadata": {},
   "outputs": [
    {
     "data": {
      "text/html": [
       "<div>\n",
       "<style scoped>\n",
       "    .dataframe tbody tr th:only-of-type {\n",
       "        vertical-align: middle;\n",
       "    }\n",
       "\n",
       "    .dataframe tbody tr th {\n",
       "        vertical-align: top;\n",
       "    }\n",
       "\n",
       "    .dataframe thead th {\n",
       "        text-align: right;\n",
       "    }\n",
       "</style>\n",
       "<table border=\"1\" class=\"dataframe\">\n",
       "  <thead>\n",
       "    <tr style=\"text-align: right;\">\n",
       "      <th></th>\n",
       "      <th>Survived</th>\n",
       "      <th>Pclass</th>\n",
       "      <th>Age</th>\n",
       "      <th>SibSp</th>\n",
       "      <th>Parch</th>\n",
       "      <th>Fare</th>\n",
       "    </tr>\n",
       "  </thead>\n",
       "  <tbody>\n",
       "    <tr>\n",
       "      <th>Survived</th>\n",
       "      <td>1.000000</td>\n",
       "      <td>-0.338481</td>\n",
       "      <td>-0.077221</td>\n",
       "      <td>-0.035322</td>\n",
       "      <td>0.081629</td>\n",
       "      <td>0.257307</td>\n",
       "    </tr>\n",
       "    <tr>\n",
       "      <th>Pclass</th>\n",
       "      <td>-0.338481</td>\n",
       "      <td>1.000000</td>\n",
       "      <td>-0.369226</td>\n",
       "      <td>0.083081</td>\n",
       "      <td>0.018443</td>\n",
       "      <td>-0.549500</td>\n",
       "    </tr>\n",
       "    <tr>\n",
       "      <th>Age</th>\n",
       "      <td>-0.077221</td>\n",
       "      <td>-0.369226</td>\n",
       "      <td>1.000000</td>\n",
       "      <td>-0.308247</td>\n",
       "      <td>-0.189119</td>\n",
       "      <td>0.096067</td>\n",
       "    </tr>\n",
       "    <tr>\n",
       "      <th>SibSp</th>\n",
       "      <td>-0.035322</td>\n",
       "      <td>0.083081</td>\n",
       "      <td>-0.308247</td>\n",
       "      <td>1.000000</td>\n",
       "      <td>0.414838</td>\n",
       "      <td>0.159651</td>\n",
       "    </tr>\n",
       "    <tr>\n",
       "      <th>Parch</th>\n",
       "      <td>0.081629</td>\n",
       "      <td>0.018443</td>\n",
       "      <td>-0.189119</td>\n",
       "      <td>0.414838</td>\n",
       "      <td>1.000000</td>\n",
       "      <td>0.216225</td>\n",
       "    </tr>\n",
       "    <tr>\n",
       "      <th>Fare</th>\n",
       "      <td>0.257307</td>\n",
       "      <td>-0.549500</td>\n",
       "      <td>0.096067</td>\n",
       "      <td>0.159651</td>\n",
       "      <td>0.216225</td>\n",
       "      <td>1.000000</td>\n",
       "    </tr>\n",
       "  </tbody>\n",
       "</table>\n",
       "</div>"
      ],
      "text/plain": [
       "          Survived    Pclass       Age     SibSp     Parch      Fare\n",
       "Survived  1.000000 -0.338481 -0.077221 -0.035322  0.081629  0.257307\n",
       "Pclass   -0.338481  1.000000 -0.369226  0.083081  0.018443 -0.549500\n",
       "Age      -0.077221 -0.369226  1.000000 -0.308247 -0.189119  0.096067\n",
       "SibSp    -0.035322  0.083081 -0.308247  1.000000  0.414838  0.159651\n",
       "Parch     0.081629  0.018443 -0.189119  0.414838  1.000000  0.216225\n",
       "Fare      0.257307 -0.549500  0.096067  0.159651  0.216225  1.000000"
      ]
     },
     "execution_count": 15,
     "metadata": {},
     "output_type": "execute_result"
    }
   ],
   "source": [
    "# train 데이터에서 Fare와 상관관계가 높은 컬럼을 찾아보자!\n",
    "train.corr(numeric_only = True)"
   ]
  },
  {
   "cell_type": "code",
   "execution_count": 16,
   "id": "173470be-e35e-44d8-96b7-fa951d74fe42",
   "metadata": {},
   "outputs": [
    {
     "data": {
      "text/plain": [
       "Fare        1.000000\n",
       "Pclass      0.549500\n",
       "Survived    0.257307\n",
       "Parch       0.216225\n",
       "SibSp       0.159651\n",
       "Age         0.096067\n",
       "Name: Fare, dtype: float64"
      ]
     },
     "execution_count": 16,
     "metadata": {},
     "output_type": "execute_result"
    }
   ],
   "source": [
    "# Fare 컬럼만 확인하겠다!,              절댓값, 정렬     (내림차순)\n",
    "train.corr(numeric_only = True)['Fare'].abs().sort_values(ascending = False)\n",
    "# 상관관계를 나타내는 표에서 Fare 컬럼을 절댓값으로 바꾸고 내림차순으로 확인해보자\n",
    "\n",
    "# => train, test 'Fare' 컬럼은 pclass와 연관성이 상대적으로 높음"
   ]
  },
  {
   "cell_type": "code",
   "execution_count": 17,
   "id": "54030657-fc34-4696-9cbe-6f4c03245717",
   "metadata": {},
   "outputs": [
    {
     "data": {
      "image/png": "[encoded data removed]",
      "text/plain": [
       "<Figure size 800x800 with 2 Axes>"
      ]
     },
     "metadata": {},
     "output_type": "display_data"
    }
   ],
   "source": [
    "# 그래프를 통해서도 상관관계를 확인할 수 있다.\n",
    "# 히트맵 표현\n",
    "plt.figure(figsize = (8,8))                       # 어노테이션   ,컬러\n",
    "sns.heatmap(train.corr(numeric_only = True).abs(), annot = False, cmap = 'Oranges')\n",
    "plt.show()"
   ]
  },
  {
   "cell_type": "code",
   "execution_count": 18,
   "id": "a8f42e5d-c48f-4404-886e-3a16fb52630c",
   "metadata": {},
   "outputs": [
    {
     "data": {
      "text/plain": [
       "array([3, 1, 2], dtype=int64)"
      ]
     },
     "execution_count": 18,
     "metadata": {},
     "output_type": "execute_result"
    }
   ],
   "source": [
    "# train Pclass 컬럼 인덱싱\n",
    "train['Pclass'].unique() #Pclass의 중복되지 않은 값 확인"
   ]
  },
  {
   "cell_type": "code",
   "execution_count": 19,
   "id": "2f69b632-6c77-438f-bf53-07042ff5b458",
   "metadata": {},
   "outputs": [
    {
     "data": {
      "text/html": [
       "<div>\n",
       "<style scoped>\n",
       "    .dataframe tbody tr th:only-of-type {\n",
       "        vertical-align: middle;\n",
       "    }\n",
       "\n",
       "    .dataframe tbody tr th {\n",
       "        vertical-align: top;\n",
       "    }\n",
       "\n",
       "    .dataframe thead th {\n",
       "        text-align: right;\n",
       "    }\n",
       "</style>\n",
       "<table border=\"1\" class=\"dataframe\">\n",
       "  <thead>\n",
       "    <tr style=\"text-align: right;\">\n",
       "      <th></th>\n",
       "      <th></th>\n",
       "      <th>Fare</th>\n",
       "    </tr>\n",
       "    <tr>\n",
       "      <th>Pclass</th>\n",
       "      <th>Sex</th>\n",
       "      <th></th>\n",
       "    </tr>\n",
       "  </thead>\n",
       "  <tbody>\n",
       "    <tr>\n",
       "      <th rowspan=\"2\" valign=\"top\">1</th>\n",
       "      <th>female</th>\n",
       "      <td>82.66455</td>\n",
       "    </tr>\n",
       "    <tr>\n",
       "      <th>male</th>\n",
       "      <td>41.26250</td>\n",
       "    </tr>\n",
       "    <tr>\n",
       "      <th rowspan=\"2\" valign=\"top\">2</th>\n",
       "      <th>female</th>\n",
       "      <td>22.00000</td>\n",
       "    </tr>\n",
       "    <tr>\n",
       "      <th>male</th>\n",
       "      <td>13.00000</td>\n",
       "    </tr>\n",
       "    <tr>\n",
       "      <th rowspan=\"2\" valign=\"top\">3</th>\n",
       "      <th>female</th>\n",
       "      <td>12.47500</td>\n",
       "    </tr>\n",
       "    <tr>\n",
       "      <th>male</th>\n",
       "      <td>7.92500</td>\n",
       "    </tr>\n",
       "  </tbody>\n",
       "</table>\n",
       "</div>"
      ],
      "text/plain": [
       "                   Fare\n",
       "Pclass Sex             \n",
       "1      female  82.66455\n",
       "       male    41.26250\n",
       "2      female  22.00000\n",
       "       male    13.00000\n",
       "3      female  12.47500\n",
       "       male     7.92500"
      ]
     },
     "execution_count": 19,
     "metadata": {},
     "output_type": "execute_result"
    }
   ],
   "source": [
    "# 승객 등급을 기준으로 그룹화, 요금 컬럼 집계함수 연결(median())\n",
    "# 두 개의 컬럼 인덱싱 / 기준이 되는 컬럼 설정 / 중앙값이 나올 수 있도록 함수 사용\n",
    "train[['Pclass', 'Fare']].groupby('Pclass').median()\n",
    "# Pclass를 그룹핑하여 Fare의 중앙값을 살펴본 코드\n",
    "\n",
    "#Pclass, Sex 그룹핑하여 Fare의 중앙값을 확인해보기 (실습)\n",
    "train[['Pclass','Fare','Sex']].groupby(['Pclass', 'Sex']).median()\n"
   ]
  },
  {
   "cell_type": "code",
   "execution_count": 20,
   "id": "65d5df5d-4794-4be2-a872-39dba10fca96",
   "metadata": {
    "scrolled": true
   },
   "outputs": [
    {
     "name": "stdout",
     "output_type": "stream",
     "text": [
      "(1, 'female')\n",
      "             Pclass     Sex      Fare\n",
      "PassengerId                          \n",
      "2                 1  female   71.2833\n",
      "4                 1  female   53.1000\n",
      "12                1  female   26.5500\n",
      "32                1  female  146.5208\n",
      "53                1  female   76.7292\n",
      "...             ...     ...       ...\n",
      "857               1  female  164.8667\n",
      "863               1  female   25.9292\n",
      "872               1  female   52.5542\n",
      "880               1  female   83.1583\n",
      "888               1  female   30.0000\n",
      "\n",
      "[94 rows x 3 columns]\n",
      "\n",
      "(1, 'male')\n",
      "             Pclass   Sex      Fare\n",
      "PassengerId                        \n",
      "7                 1  male   51.8625\n",
      "24                1  male   35.5000\n",
      "28                1  male  263.0000\n",
      "31                1  male   27.7208\n",
      "35                1  male   82.1708\n",
      "...             ...   ...       ...\n",
      "840               1  male   29.7000\n",
      "858               1  male   26.5500\n",
      "868               1  male   50.4958\n",
      "873               1  male    5.0000\n",
      "890               1  male   30.0000\n",
      "\n",
      "[122 rows x 3 columns]\n",
      "\n",
      "(2, 'female')\n",
      "             Pclass     Sex     Fare\n",
      "PassengerId                         \n",
      "10                2  female  30.0708\n",
      "16                2  female  16.0000\n",
      "42                2  female  21.0000\n",
      "44                2  female  41.5792\n",
      "54                2  female  26.0000\n",
      "...             ...     ...      ...\n",
      "855               2  female  26.0000\n",
      "866               2  female  13.0000\n",
      "867               2  female  13.8583\n",
      "875               2  female  24.0000\n",
      "881               2  female  26.0000\n",
      "\n",
      "[76 rows x 3 columns]\n",
      "\n",
      "(2, 'male')\n",
      "             Pclass   Sex  Fare\n",
      "PassengerId                    \n",
      "18                2  male  13.0\n",
      "21                2  male  26.0\n",
      "22                2  male  13.0\n",
      "34                2  male  10.5\n",
      "71                2  male  10.5\n",
      "...             ...   ...   ...\n",
      "849               2  male  33.0\n",
      "862               2  male  11.5\n",
      "865               2  male  13.0\n",
      "884               2  male  10.5\n",
      "887               2  male  13.0\n",
      "\n",
      "[108 rows x 3 columns]\n",
      "\n",
      "(3, 'female')\n",
      "             Pclass     Sex     Fare\n",
      "PassengerId                         \n",
      "3                 3  female   7.9250\n",
      "9                 3  female  11.1333\n",
      "11                3  female  16.7000\n",
      "15                3  female   7.8542\n",
      "19                3  female  18.0000\n",
      "...             ...     ...      ...\n",
      "864               3  female  69.5500\n",
      "876               3  female   7.2250\n",
      "883               3  female  10.5167\n",
      "886               3  female  29.1250\n",
      "889               3  female  23.4500\n",
      "\n",
      "[144 rows x 3 columns]\n",
      "\n",
      "(3, 'male')\n",
      "             Pclass   Sex     Fare\n",
      "PassengerId                       \n",
      "1                 3  male   7.2500\n",
      "5                 3  male   8.0500\n",
      "6                 3  male   8.4583\n",
      "8                 3  male  21.0750\n",
      "13                3  male   8.0500\n",
      "...             ...   ...      ...\n",
      "878               3  male   7.8958\n",
      "879               3  male   7.8958\n",
      "882               3  male   7.8958\n",
      "885               3  male   7.0500\n",
      "891               3  male   7.7500\n",
      "\n",
      "[347 rows x 3 columns]\n",
      "\n"
     ]
    }
   ],
   "source": [
    "# 중앙값 처리하기 전 그룹화 코드\n",
    "grouped = train[['Pclass', 'Sex', 'Fare']].groupby(['Pclass', 'Sex'])\n",
    "for sex, pclass in grouped:\n",
    "    print(sex)\n",
    "    print(pclass)\n",
    "    print()"
   ]
  },
  {
   "cell_type": "code",
   "execution_count": 21,
   "id": "1a0f4679-8fb0-4c86-a45f-2480ab083992",
   "metadata": {},
   "outputs": [
    {
     "name": "stdout",
     "output_type": "stream",
     "text": [
      "<class 'pandas.core.frame.DataFrame'>\n",
      "Index: 418 entries, 892 to 1309\n",
      "Data columns (total 10 columns):\n",
      " #   Column    Non-Null Count  Dtype  \n",
      "---  ------    --------------  -----  \n",
      " 0   Pclass    418 non-null    int64  \n",
      " 1   Name      418 non-null    object \n",
      " 2   Sex       418 non-null    object \n",
      " 3   Age       332 non-null    float64\n",
      " 4   SibSp     418 non-null    int64  \n",
      " 5   Parch     418 non-null    int64  \n",
      " 6   Ticket    418 non-null    object \n",
      " 7   Fare      418 non-null    float64\n",
      " 8   Cabin     91 non-null     object \n",
      " 9   Embarked  418 non-null    object \n",
      "dtypes: float64(2), int64(3), object(5)\n",
      "memory usage: 35.9+ KB\n"
     ]
    }
   ],
   "source": [
    "# 결측치가 있는 행 출력해보기 : Fare\n",
    "# 3등급, 남자 - 7.92500 값 넣기\n",
    "test['Fare'] = test['Fare'].fillna(7.925)\n",
    "test.info()"
   ]
  },
  {
   "cell_type": "markdown",
   "id": "0af30155-1973-467b-9a2c-7c61be6a97b6",
   "metadata": {},
   "source": [
    "- train, test Age 채우기\n",
    "  - 위에서 사용했던 Pcalss, Sex 컬럼을 그룹핑하여 Age의 집계를 확인하고 채워보자"
   ]
  },
  {
   "cell_type": "code",
   "execution_count": 22,
   "id": "59693813-164d-419d-85a5-10774d1ecfb7",
   "metadata": {},
   "outputs": [
    {
     "data": {
      "text/plain": [
       "count    714.000000\n",
       "mean      29.699118\n",
       "std       14.526497\n",
       "min        0.420000\n",
       "25%       20.125000\n",
       "50%       28.000000\n",
       "75%       38.000000\n",
       "max       80.000000\n",
       "Name: Age, dtype: float64"
      ]
     },
     "execution_count": 22,
     "metadata": {},
     "output_type": "execute_result"
    }
   ],
   "source": [
    "# 중앙값을 쓸지, 평균값을 쓸지 판단하기 위해 Age 컬럼의 기술 통계령을 확인하기\n",
    "# 대표성이 있는 값은 뭘까?\n",
    "\n",
    "train['Age'].describe()\n",
    "# 중앙값과 평균치가 비슷, 이상치가 없다는 것을 확인함. 중앙값을 써야겠다!\n",
    "# mean()을 활용해서 확인해보자"
   ]
  },
  {
   "cell_type": "code",
   "execution_count": 23,
   "id": "f09c0a39-d811-481d-9e7e-b98999baf917",
   "metadata": {},
   "outputs": [
    {
     "data": {
      "text/html": [
       "<div>\n",
       "<style scoped>\n",
       "    .dataframe tbody tr th:only-of-type {\n",
       "        vertical-align: middle;\n",
       "    }\n",
       "\n",
       "    .dataframe tbody tr th {\n",
       "        vertical-align: top;\n",
       "    }\n",
       "\n",
       "    .dataframe thead th {\n",
       "        text-align: right;\n",
       "    }\n",
       "</style>\n",
       "<table border=\"1\" class=\"dataframe\">\n",
       "  <thead>\n",
       "    <tr style=\"text-align: right;\">\n",
       "      <th></th>\n",
       "      <th></th>\n",
       "      <th>Age</th>\n",
       "    </tr>\n",
       "    <tr>\n",
       "      <th>Pclass</th>\n",
       "      <th>Sex</th>\n",
       "      <th></th>\n",
       "    </tr>\n",
       "  </thead>\n",
       "  <tbody>\n",
       "    <tr>\n",
       "      <th rowspan=\"2\" valign=\"top\">1</th>\n",
       "      <th>female</th>\n",
       "      <td>34.611765</td>\n",
       "    </tr>\n",
       "    <tr>\n",
       "      <th>male</th>\n",
       "      <td>41.281386</td>\n",
       "    </tr>\n",
       "    <tr>\n",
       "      <th rowspan=\"2\" valign=\"top\">2</th>\n",
       "      <th>female</th>\n",
       "      <td>28.722973</td>\n",
       "    </tr>\n",
       "    <tr>\n",
       "      <th>male</th>\n",
       "      <td>30.740707</td>\n",
       "    </tr>\n",
       "    <tr>\n",
       "      <th rowspan=\"2\" valign=\"top\">3</th>\n",
       "      <th>female</th>\n",
       "      <td>21.750000</td>\n",
       "    </tr>\n",
       "    <tr>\n",
       "      <th>male</th>\n",
       "      <td>26.507589</td>\n",
       "    </tr>\n",
       "  </tbody>\n",
       "</table>\n",
       "</div>"
      ],
      "text/plain": [
       "                     Age\n",
       "Pclass Sex              \n",
       "1      female  34.611765\n",
       "       male    41.281386\n",
       "2      female  28.722973\n",
       "       male    30.740707\n",
       "3      female  21.750000\n",
       "       male    26.507589"
      ]
     },
     "execution_count": 23,
     "metadata": {},
     "output_type": "execute_result"
    }
   ],
   "source": [
    "# Pclass, Sex를 그룹핑하여 Age의 평균 출력해보기 - train\n",
    "# 세 개의 컬럼에 대해 인덱싱할 거고ㅡ pclass랑 sex로 그룹화할 거야. 둘을 그룹화한 컬럼에 맞춰 해당 나이를 중앙값으로 출력해줘~\n",
    "gb1 = train[['Pclass','Sex','Age']].groupby(['Pclass','Sex']).mean()\n",
    "gb1"
   ]
  },
  {
   "cell_type": "code",
   "execution_count": 24,
   "id": "4419ee99-9d89-4ad5-9273-1af87f6239c1",
   "metadata": {},
   "outputs": [
    {
     "data": {
      "text/plain": [
       "Age    30.740707\n",
       "Name: (2, male), dtype: float64"
      ]
     },
     "execution_count": 24,
     "metadata": {},
     "output_type": "execute_result"
    }
   ],
   "source": [
    "# gb1 - index 2개 - Pclass, sex\n",
    "# 멀티 인덱스(중복 인덱스)\n",
    "# pclass에서 어떤 컬럼을 꺼내올 건지, sex에선 어떤 컬럼을 꺼내올 건지\n",
    "gb1.loc[(2,'male')]"
   ]
  },
  {
   "cell_type": "code",
   "execution_count": 25,
   "id": "b541f9bd-a522-4007-bf28-340da2d9562d",
   "metadata": {},
   "outputs": [
    {
     "data": {
      "text/plain": [
       "Age    21.75\n",
       "Name: (3, female), dtype: float64"
      ]
     },
     "execution_count": 25,
     "metadata": {},
     "output_type": "execute_result"
    }
   ],
   "source": [
    "# 3등급의 여성 나이 평균 접근해보자 (실습)\n",
    "gb1.loc[(3,'female')]"
   ]
  },
  {
   "cell_type": "code",
   "execution_count": 26,
   "id": "32ae6436-8273-4f4d-af9b-ec6c880fc122",
   "metadata": {
    "scrolled": true
   },
   "outputs": [
    {
     "data": {
      "text/html": [
       "<div>\n",
       "<style scoped>\n",
       "    .dataframe tbody tr th:only-of-type {\n",
       "        vertical-align: middle;\n",
       "    }\n",
       "\n",
       "    .dataframe tbody tr th {\n",
       "        vertical-align: top;\n",
       "    }\n",
       "\n",
       "    .dataframe thead th {\n",
       "        text-align: right;\n",
       "    }\n",
       "</style>\n",
       "<table border=\"1\" class=\"dataframe\">\n",
       "  <thead>\n",
       "    <tr style=\"text-align: right;\">\n",
       "      <th></th>\n",
       "      <th>Survived</th>\n",
       "      <th>Pclass</th>\n",
       "      <th>Name</th>\n",
       "      <th>Sex</th>\n",
       "      <th>Age</th>\n",
       "      <th>SibSp</th>\n",
       "      <th>Parch</th>\n",
       "      <th>Ticket</th>\n",
       "      <th>Fare</th>\n",
       "      <th>Cabin</th>\n",
       "      <th>Embarked</th>\n",
       "    </tr>\n",
       "    <tr>\n",
       "      <th>PassengerId</th>\n",
       "      <th></th>\n",
       "      <th></th>\n",
       "      <th></th>\n",
       "      <th></th>\n",
       "      <th></th>\n",
       "      <th></th>\n",
       "      <th></th>\n",
       "      <th></th>\n",
       "      <th></th>\n",
       "      <th></th>\n",
       "      <th></th>\n",
       "    </tr>\n",
       "  </thead>\n",
       "  <tbody>\n",
       "    <tr>\n",
       "      <th>6</th>\n",
       "      <td>0</td>\n",
       "      <td>3</td>\n",
       "      <td>Moran, Mr. James</td>\n",
       "      <td>male</td>\n",
       "      <td>NaN</td>\n",
       "      <td>0</td>\n",
       "      <td>0</td>\n",
       "      <td>330877</td>\n",
       "      <td>8.4583</td>\n",
       "      <td>NaN</td>\n",
       "      <td>Q</td>\n",
       "    </tr>\n",
       "    <tr>\n",
       "      <th>18</th>\n",
       "      <td>1</td>\n",
       "      <td>2</td>\n",
       "      <td>Williams, Mr. Charles Eugene</td>\n",
       "      <td>male</td>\n",
       "      <td>NaN</td>\n",
       "      <td>0</td>\n",
       "      <td>0</td>\n",
       "      <td>244373</td>\n",
       "      <td>13.0000</td>\n",
       "      <td>NaN</td>\n",
       "      <td>S</td>\n",
       "    </tr>\n",
       "    <tr>\n",
       "      <th>20</th>\n",
       "      <td>1</td>\n",
       "      <td>3</td>\n",
       "      <td>Masselmani, Mrs. Fatima</td>\n",
       "      <td>female</td>\n",
       "      <td>NaN</td>\n",
       "      <td>0</td>\n",
       "      <td>0</td>\n",
       "      <td>2649</td>\n",
       "      <td>7.2250</td>\n",
       "      <td>NaN</td>\n",
       "      <td>C</td>\n",
       "    </tr>\n",
       "    <tr>\n",
       "      <th>27</th>\n",
       "      <td>0</td>\n",
       "      <td>3</td>\n",
       "      <td>Emir, Mr. Farred Chehab</td>\n",
       "      <td>male</td>\n",
       "      <td>NaN</td>\n",
       "      <td>0</td>\n",
       "      <td>0</td>\n",
       "      <td>2631</td>\n",
       "      <td>7.2250</td>\n",
       "      <td>NaN</td>\n",
       "      <td>C</td>\n",
       "    </tr>\n",
       "    <tr>\n",
       "      <th>29</th>\n",
       "      <td>1</td>\n",
       "      <td>3</td>\n",
       "      <td>O'Dwyer, Miss. Ellen \"Nellie\"</td>\n",
       "      <td>female</td>\n",
       "      <td>NaN</td>\n",
       "      <td>0</td>\n",
       "      <td>0</td>\n",
       "      <td>330959</td>\n",
       "      <td>7.8792</td>\n",
       "      <td>NaN</td>\n",
       "      <td>Q</td>\n",
       "    </tr>\n",
       "    <tr>\n",
       "      <th>...</th>\n",
       "      <td>...</td>\n",
       "      <td>...</td>\n",
       "      <td>...</td>\n",
       "      <td>...</td>\n",
       "      <td>...</td>\n",
       "      <td>...</td>\n",
       "      <td>...</td>\n",
       "      <td>...</td>\n",
       "      <td>...</td>\n",
       "      <td>...</td>\n",
       "      <td>...</td>\n",
       "    </tr>\n",
       "    <tr>\n",
       "      <th>860</th>\n",
       "      <td>0</td>\n",
       "      <td>3</td>\n",
       "      <td>Razi, Mr. Raihed</td>\n",
       "      <td>male</td>\n",
       "      <td>NaN</td>\n",
       "      <td>0</td>\n",
       "      <td>0</td>\n",
       "      <td>2629</td>\n",
       "      <td>7.2292</td>\n",
       "      <td>NaN</td>\n",
       "      <td>C</td>\n",
       "    </tr>\n",
       "    <tr>\n",
       "      <th>864</th>\n",
       "      <td>0</td>\n",
       "      <td>3</td>\n",
       "      <td>Sage, Miss. Dorothy Edith \"Dolly\"</td>\n",
       "      <td>female</td>\n",
       "      <td>NaN</td>\n",
       "      <td>8</td>\n",
       "      <td>2</td>\n",
       "      <td>CA. 2343</td>\n",
       "      <td>69.5500</td>\n",
       "      <td>NaN</td>\n",
       "      <td>S</td>\n",
       "    </tr>\n",
       "    <tr>\n",
       "      <th>869</th>\n",
       "      <td>0</td>\n",
       "      <td>3</td>\n",
       "      <td>van Melkebeke, Mr. Philemon</td>\n",
       "      <td>male</td>\n",
       "      <td>NaN</td>\n",
       "      <td>0</td>\n",
       "      <td>0</td>\n",
       "      <td>345777</td>\n",
       "      <td>9.5000</td>\n",
       "      <td>NaN</td>\n",
       "      <td>S</td>\n",
       "    </tr>\n",
       "    <tr>\n",
       "      <th>879</th>\n",
       "      <td>0</td>\n",
       "      <td>3</td>\n",
       "      <td>Laleff, Mr. Kristo</td>\n",
       "      <td>male</td>\n",
       "      <td>NaN</td>\n",
       "      <td>0</td>\n",
       "      <td>0</td>\n",
       "      <td>349217</td>\n",
       "      <td>7.8958</td>\n",
       "      <td>NaN</td>\n",
       "      <td>S</td>\n",
       "    </tr>\n",
       "    <tr>\n",
       "      <th>889</th>\n",
       "      <td>0</td>\n",
       "      <td>3</td>\n",
       "      <td>Johnston, Miss. Catherine Helen \"Carrie\"</td>\n",
       "      <td>female</td>\n",
       "      <td>NaN</td>\n",
       "      <td>1</td>\n",
       "      <td>2</td>\n",
       "      <td>W./C. 6607</td>\n",
       "      <td>23.4500</td>\n",
       "      <td>NaN</td>\n",
       "      <td>S</td>\n",
       "    </tr>\n",
       "  </tbody>\n",
       "</table>\n",
       "<p>177 rows × 11 columns</p>\n",
       "</div>"
      ],
      "text/plain": [
       "             Survived  Pclass                                      Name  \\\n",
       "PassengerId                                                               \n",
       "6                   0       3                          Moran, Mr. James   \n",
       "18                  1       2              Williams, Mr. Charles Eugene   \n",
       "20                  1       3                   Masselmani, Mrs. Fatima   \n",
       "27                  0       3                   Emir, Mr. Farred Chehab   \n",
       "29                  1       3             O'Dwyer, Miss. Ellen \"Nellie\"   \n",
       "...               ...     ...                                       ...   \n",
       "860                 0       3                          Razi, Mr. Raihed   \n",
       "864                 0       3         Sage, Miss. Dorothy Edith \"Dolly\"   \n",
       "869                 0       3               van Melkebeke, Mr. Philemon   \n",
       "879                 0       3                        Laleff, Mr. Kristo   \n",
       "889                 0       3  Johnston, Miss. Catherine Helen \"Carrie\"   \n",
       "\n",
       "                Sex  Age  SibSp  Parch      Ticket     Fare Cabin Embarked  \n",
       "PassengerId                                                                 \n",
       "6              male  NaN      0      0      330877   8.4583   NaN        Q  \n",
       "18             male  NaN      0      0      244373  13.0000   NaN        S  \n",
       "20           female  NaN      0      0        2649   7.2250   NaN        C  \n",
       "27             male  NaN      0      0        2631   7.2250   NaN        C  \n",
       "29           female  NaN      0      0      330959   7.8792   NaN        Q  \n",
       "...             ...  ...    ...    ...         ...      ...   ...      ...  \n",
       "860            male  NaN      0      0        2629   7.2292   NaN        C  \n",
       "864          female  NaN      8      2    CA. 2343  69.5500   NaN        S  \n",
       "869            male  NaN      0      0      345777   9.5000   NaN        S  \n",
       "879            male  NaN      0      0      349217   7.8958   NaN        S  \n",
       "889          female  NaN      1      2  W./C. 6607  23.4500   NaN        S  \n",
       "\n",
       "[177 rows x 11 columns]"
      ]
     },
     "execution_count": 26,
     "metadata": {},
     "output_type": "execute_result"
    }
   ],
   "source": [
    "# train Age 결측치가 있는 행 정보 모두 출력 #불리언 인덱싱, train[false인 값]\n",
    "train[train['Age'].isnull()]"
   ]
  },
  {
   "cell_type": "code",
   "execution_count": 27,
   "id": "64a160fd-f86c-4dbc-a7da-d62f5defd9a4",
   "metadata": {},
   "outputs": [],
   "source": [
    "# 규칙에 맞게 Pclass와 Sex를 보면서 Age를 넣어보자\n",
    "def fill_age(row): #한 줄에 대한 데이터\n",
    "    # print(row)\n",
    "    # print('*'*15)\n",
    "    # row : 받아오는 행에 대한 데이터에 대한 매개변수\n",
    "    # row에 Age가 결측치라면 gb1값을 인덱싱 해오도록 만들어주자!\n",
    "    # 만약 나이가 결측치라면 gb1의 값을 인덱싱 ()\n",
    "    if np.isnan(row['Age']) : # 받아온 행 데이터(row)의 gb1이 결측치인지 아닌지 판단하는 코드\n",
    "        # 위 실습 한 것 처럼 멀티인덱싱을 한 거임. \n",
    "        # 결측치가 있는 (row)의 사람의 pclass와 sex를 받아와 gb1(나이 평균)에서 인덱싱을 해 평균 나이를 반환하겠다!\n",
    "        return gb1.loc[(row['Pclass'], row['Sex'])]\n",
    "    # 결측치가 아니라면 원래 나이값을 사용\n",
    "    else:\n",
    "        return row['Age'] # 결측치가 아니라면 원래 본인(row)의 age를 인덱싱해서 리턴하겠다."
   ]
  },
  {
   "cell_type": "code",
   "execution_count": 28,
   "id": "ab973890-5634-4029-944f-39cc56930b39",
   "metadata": {},
   "outputs": [
    {
     "name": "stdout",
     "output_type": "stream",
     "text": [
      "<class 'pandas.core.series.Series'>\n",
      "Index: 891 entries, 1 to 891\n",
      "Series name: Age\n",
      "Non-Null Count  Dtype\n",
      "--------------  -----\n",
      "891 non-null    int64\n",
      "dtypes: int64(1)\n",
      "memory usage: 13.9 KB\n"
     ]
    },
    {
     "name": "stderr",
     "output_type": "stream",
     "text": [
      "C:\\Users\\smhrd\\AppData\\Local\\Temp\\ipykernel_4912\\3889375628.py:1: FutureWarning: Calling int on a single element Series is deprecated and will raise a TypeError in the future. Use int(ser.iloc[0]) instead\n",
      "  train['Age'] = train.apply(fill_age, axis = 1).astype('int64')\n"
     ]
    }
   ],
   "source": [
    "train['Age'] = train.apply(fill_age, axis = 1).astype('int64')\n",
    "                                               # bg1은 소수 데이터라 형변환 떄림\n",
    "# axis = 0 (행 방향, 위에서 아래로, 열 단위로 값이 처리된다)\n",
    "# axis = 1 (열 방향, 왼쪽에서 오른쪽으로, 행 단위로 값이 처리된다)\n",
    "train['Age'].info()"
   ]
  },
  {
   "cell_type": "code",
   "execution_count": 29,
   "id": "00729fde-4931-4fa6-b42e-409fd5e892a1",
   "metadata": {},
   "outputs": [
    {
     "name": "stdout",
     "output_type": "stream",
     "text": [
      "<class 'pandas.core.series.Series'>\n",
      "Index: 418 entries, 892 to 1309\n",
      "Series name: Age\n",
      "Non-Null Count  Dtype\n",
      "--------------  -----\n",
      "418 non-null    int64\n",
      "dtypes: int64(1)\n",
      "memory usage: 6.5 KB\n"
     ]
    },
    {
     "name": "stderr",
     "output_type": "stream",
     "text": [
      "C:\\Users\\smhrd\\AppData\\Local\\Temp\\ipykernel_4912\\1959630858.py:5: FutureWarning: Calling int on a single element Series is deprecated and will raise a TypeError in the future. Use int(ser.iloc[0]) instead\n",
      "  test['Age'] = test.apply(fill_age, axis = 1).astype('int64')\n"
     ]
    }
   ],
   "source": [
    "# 왜 트레인 데이터를 기반으로 테스트 데이터를 채우는 거지?\n",
    "# test Age 결측치 채워보기\n",
    "# gb1을 기준으로 동일하게 적용\n",
    "# fill_age 함수 test 데이터에 적용\n",
    "test['Age'] = test.apply(fill_age, axis = 1).astype('int64')\n",
    "\n",
    "# apply, fill_age와의 관계\n",
    "# 테스트 데이터를 행 단위로 쪼갠 거를 매개변수로 보내줘서 안쪽 로직이 동작하고\n",
    "# 결과값으로 age를 채울 수 있는 대표값을 하나 보내주는데 \n",
    "# 형변환을 해서 test 'Age' 컬럼에 그대로 넣어준다!\n",
    "test['Age'].info()\n"
   ]
  },
  {
   "cell_type": "markdown",
   "id": "41ae4741-91c5-4aa9-8614-6dece4f4456b",
   "metadata": {},
   "source": [
    "- train, test Cabin 채우기\n",
    "  - cabin 컬럼 데이터 확인, 의미있는 데이터만 활용\n",
    "  - 임의의 값으로 결측치를 채워볼 예정"
   ]
  },
  {
   "cell_type": "code",
   "execution_count": 30,
   "id": "99522481-3f26-48b4-83b6-557520afd493",
   "metadata": {},
   "outputs": [
    {
     "name": "stdout",
     "output_type": "stream",
     "text": [
      "<class 'pandas.core.series.Series'>\n",
      "Index: 891 entries, 1 to 891\n",
      "Series name: Cabin\n",
      "Non-Null Count  Dtype \n",
      "--------------  ----- \n",
      "204 non-null    object\n",
      "dtypes: object(1)\n",
      "memory usage: 13.9+ KB\n"
     ]
    }
   ],
   "source": [
    "# train 기준으로 데이터 확인\n",
    "train['Cabin'].unique()\n",
    "train['Cabin'].info()\n",
    "\n",
    "# 배는 A, B, C... 층으로 표기를 한다. 뒤에 있는 숫자까지 사용하면 범주가 너무 커질 것 같으니 \n",
    "# 앞에 있는 알파벳만 사용해보는 건 어떨까?"
   ]
  },
  {
   "cell_type": "code",
   "execution_count": 31,
   "id": "492105bf-7774-4717-92fb-375d8e3a08c0",
   "metadata": {},
   "outputs": [],
   "source": [
    "# 우선 임의의 값으로 train, test Cabin 결측치를 채워보자\n",
    "# 'M'\n",
    "train['Cabin'] = train['Cabin'].fillna('M')\n",
    "test['Cabin'] = test['Cabin'].fillna('M')"
   ]
  },
  {
   "cell_type": "code",
   "execution_count": 32,
   "id": "72b0727b-0998-4ef3-bc43-1a50ada11726",
   "metadata": {},
   "outputs": [
    {
     "name": "stdout",
     "output_type": "stream",
     "text": [
      "<class 'pandas.core.series.Series'>\n",
      "Index: 891 entries, 1 to 891\n",
      "Series name: Cabin\n",
      "Non-Null Count  Dtype \n",
      "--------------  ----- \n",
      "891 non-null    object\n",
      "dtypes: object(1)\n",
      "memory usage: 13.9+ KB\n"
     ]
    }
   ],
   "source": [
    "train['Cabin'].info()"
   ]
  },
  {
   "cell_type": "code",
   "execution_count": 33,
   "id": "587ff310-4c73-41b5-9bd3-ac7e64fd9e22",
   "metadata": {},
   "outputs": [
    {
     "data": {
      "text/plain": [
       "(Index(['Survived', 'Pclass', 'Name', 'Sex', 'Age', 'SibSp', 'Parch', 'Ticket',\n",
       "        'Fare', 'Cabin', 'Embarked', 'Deck'],\n",
       "       dtype='object'),\n",
       " Index(['Pclass', 'Name', 'Sex', 'Age', 'SibSp', 'Parch', 'Ticket', 'Fare',\n",
       "        'Cabin', 'Embarked', 'Deck'],\n",
       "       dtype='object'))"
      ]
     },
     "execution_count": 33,
     "metadata": {},
     "output_type": "execute_result"
    }
   ],
   "source": [
    "# 첫 글자 알파벳 1개만 추출하기 -> A46, C76 이런 거니까 cabin의 알파벳(str[0])만 따서 deck 라는 컬럼에 넣었음\n",
    "# 문자열에 접근하려면 인덱싱, 슬라이싱 사용\n",
    "train['Deck'] = train['Cabin'].str[0]\n",
    "# str : 데이터 내부 문자열에 접근하는 키워드\n",
    "# 혹시 나중에 숫자가 달려있는 데이터가 필요할 수도 있으니, Deck라는 새로운 컬럼을\n",
    "# 만들어서 알파벳 1개를 담아주자\n",
    "test['Deck'] = test['Cabin'].str[0]\n",
    "\n",
    "\n",
    "# column을 확인해보자\n",
    "train.columns, test.columns"
   ]
  },
  {
   "cell_type": "code",
   "execution_count": 34,
   "id": "2bb05cdb-ab3d-4795-a917-cb1fe03e85f4",
   "metadata": {},
   "outputs": [],
   "source": [
    "# Cabin 컬럼 삭제 (train, test) // 알파벳만 담은 deck만 살려두려고.. cabin은 이제 쓸모 없어\n",
    "# train 데이터와 test 데이터에서 cabin 컬럼을 삭제하자\n",
    "\n",
    "# 데이터.drop(컬럼명, axis = , inplace = True)\n",
    "# axis = 0이면, 행 삭제\n",
    "# axis = 1이면, 열 삭제\n",
    "# 여러 개의 데이터를 삭제하고 싶으면 데이터.drop([열이름, 열이름...], axis = 1)\n",
    "\n",
    "# inplace : 삭제를 데이터에 반영하는 속성\n",
    "train.drop('Cabin', axis = 1, inplace = True)\n",
    "test.drop('Cabin', axis = 1, inplace = True)"
   ]
  },
  {
   "cell_type": "code",
   "execution_count": 35,
   "id": "052473ed-db7d-41ef-8b55-d34c2ce3c4f0",
   "metadata": {},
   "outputs": [
    {
     "data": {
      "text/plain": [
       "(Index(['Survived', 'Pclass', 'Name', 'Sex', 'Age', 'SibSp', 'Parch', 'Ticket',\n",
       "        'Fare', 'Embarked', 'Deck'],\n",
       "       dtype='object'),\n",
       " Index(['Pclass', 'Name', 'Sex', 'Age', 'SibSp', 'Parch', 'Ticket', 'Fare',\n",
       "        'Embarked', 'Deck'],\n",
       "       dtype='object'))"
      ]
     },
     "execution_count": 35,
     "metadata": {},
     "output_type": "execute_result"
    }
   ],
   "source": [
    "train.columns, test.columns"
   ]
  },
  {
   "cell_type": "code",
   "execution_count": 36,
   "id": "dbf12250-8560-4d80-9c5e-b8e9231b2a33",
   "metadata": {},
   "outputs": [
    {
     "name": "stdout",
     "output_type": "stream",
     "text": [
      "<class 'pandas.core.frame.DataFrame'>\n",
      "Index: 891 entries, 1 to 891\n",
      "Data columns (total 11 columns):\n",
      " #   Column    Non-Null Count  Dtype  \n",
      "---  ------    --------------  -----  \n",
      " 0   Survived  891 non-null    int64  \n",
      " 1   Pclass    891 non-null    int64  \n",
      " 2   Name      891 non-null    object \n",
      " 3   Sex       891 non-null    object \n",
      " 4   Age       891 non-null    int64  \n",
      " 5   SibSp     891 non-null    int64  \n",
      " 6   Parch     891 non-null    int64  \n",
      " 7   Ticket    891 non-null    object \n",
      " 8   Fare      891 non-null    float64\n",
      " 9   Embarked  891 non-null    object \n",
      " 10  Deck      891 non-null    object \n",
      "dtypes: float64(1), int64(5), object(5)\n",
      "memory usage: 83.5+ KB\n"
     ]
    }
   ],
   "source": [
    "train.info()"
   ]
  },
  {
   "cell_type": "markdown",
   "id": "5de444ec-e9ce-42a3-a4dd-18542dacbce1",
   "metadata": {},
   "source": [
    "- Deck 시각화"
   ]
  },
  {
   "cell_type": "code",
   "execution_count": 37,
   "id": "9efad3d0-d360-4069-98a9-7c32ffd97aa0",
   "metadata": {},
   "outputs": [
    {
     "data": {
      "image/png": "[encoded data removed]",
      "text/plain": [
       "<Figure size 640x480 with 1 Axes>"
      ]
     },
     "metadata": {},
     "output_type": "display_data"
    }
   ],
   "source": [
    "# sns 시각화 도구를 사용해서 범주형 데이터 Deck를 시각화 해보자\n",
    "train['Survived'] = train['Survived'].astype(str) #이거 하면 오류 안 뜸\n",
    "sns.countplot(data = train, x ='Deck', hue = 'Survived')\n",
    "plt.show()\n",
    "# 파란색 - 사망 / 주확생 - 생존"
   ]
  },
  {
   "cell_type": "code",
   "execution_count": 38,
   "id": "2aa6f424-0d30-4282-bde9-0dcd4c607104",
   "metadata": {},
   "outputs": [],
   "source": [
    "# M층에서는 상대적으로 사망율이 높음\n",
    "# 근데 M은 임의로 채워놓은 값이기에 다시 다른 컬럼을 살펴보면서 값을 다시 생각해보자"
   ]
  },
  {
   "cell_type": "markdown",
   "id": "1700c492-4f32-47a0-a339-a1390bf0488e",
   "metadata": {},
   "source": [
    "- Pclass에 따른 생존/사망 시각화"
   ]
  },
  {
   "cell_type": "code",
   "execution_count": 39,
   "id": "e09d504f-87d4-4c6b-b923-c13e6e4c1f28",
   "metadata": {},
   "outputs": [
    {
     "data": {
      "image/png": "[encoded data removed]",
      "text/plain": [
       "<Figure size 640x480 with 1 Axes>"
      ]
     },
     "metadata": {},
     "output_type": "display_data"
    }
   ],
   "source": [
    "# Pclass가 사망에 얼마나 많은 영향을 받았는지 위 데이터처럼 시각화를 진행해보자\n",
    "# x는 기준, hue는 count하고 싶은 내용\n",
    "train['Survived'] = train['Survived'].astype(str) #이거 하면 오류 안 뜸\n",
    "sns.countplot(data = train, x = 'Pclass', hue = 'Survived')\n",
    "plt.show()"
   ]
  },
  {
   "cell_type": "code",
   "execution_count": 40,
   "id": "b475465f-b63a-423a-bd43-93994477d182",
   "metadata": {},
   "outputs": [],
   "source": [
    "# 1 : 생존율이 상대적으로 높음\n",
    "# 2 : 사망율이 조금 높지만 생존율과 거의 비슷함\n",
    "# 3 : 사망율이 월등히 높음"
   ]
  },
  {
   "cell_type": "markdown",
   "id": "10d5344a-b6fd-4930-85f7-1fc653828020",
   "metadata": {},
   "source": [
    "- Deck 와 Pclass 시각화 연결\n",
    "- x 축 : Deck\n",
    "- hue : Pclass"
   ]
  },
  {
   "cell_type": "code",
   "execution_count": 42,
   "id": "ed8514b8-491b-4519-a4b1-14d4c419997b",
   "metadata": {
    "scrolled": true
   },
   "outputs": [
    {
     "ename": "AttributeError",
     "evalue": "'numpy.int64' object has no attribute 'startswith'",
     "output_type": "error",
     "traceback": [
      "\u001b[1;31m---------------------------------------------------------------------------\u001b[0m",
      "\u001b[1;31mAttributeError\u001b[0m                            Traceback (most recent call last)",
      "Cell \u001b[1;32mIn[42], line 2\u001b[0m\n\u001b[0;32m      1\u001b[0m train[\u001b[38;5;124m'\u001b[39m\u001b[38;5;124mSurvived\u001b[39m\u001b[38;5;124m'\u001b[39m] \u001b[38;5;241m=\u001b[39m train[\u001b[38;5;124m'\u001b[39m\u001b[38;5;124mSurvived\u001b[39m\u001b[38;5;124m'\u001b[39m]\u001b[38;5;241m.\u001b[39mastype(\u001b[38;5;28mstr\u001b[39m) \u001b[38;5;66;03m#이거 하면 오류 안 뜸\u001b[39;00m\n\u001b[1;32m----> 2\u001b[0m sns\u001b[38;5;241m.\u001b[39mcountplot(data \u001b[38;5;241m=\u001b[39m train, x \u001b[38;5;241m=\u001b[39m \u001b[38;5;124m'\u001b[39m\u001b[38;5;124mDeck\u001b[39m\u001b[38;5;124m'\u001b[39m, hue \u001b[38;5;241m=\u001b[39m \u001b[38;5;124m'\u001b[39m\u001b[38;5;124mPclass\u001b[39m\u001b[38;5;124m'\u001b[39m)\n",
      "File \u001b[1;32m~\\anaconda3\\Lib\\site-packages\\seaborn\\categorical.py:2955\u001b[0m, in \u001b[0;36mcountplot\u001b[1;34m(data, x, y, hue, order, hue_order, orient, color, palette, saturation, width, dodge, ax, **kwargs)\u001b[0m\n\u001b[0;32m   2952\u001b[0m \u001b[38;5;28;01mif\u001b[39;00m ax \u001b[38;5;129;01mis\u001b[39;00m \u001b[38;5;28;01mNone\u001b[39;00m:\n\u001b[0;32m   2953\u001b[0m     ax \u001b[38;5;241m=\u001b[39m plt\u001b[38;5;241m.\u001b[39mgca()\n\u001b[1;32m-> 2955\u001b[0m plotter\u001b[38;5;241m.\u001b[39mplot(ax, kwargs)\n\u001b[0;32m   2956\u001b[0m \u001b[38;5;28;01mreturn\u001b[39;00m ax\n",
      "File \u001b[1;32m~\\anaconda3\\Lib\\site-packages\\seaborn\\categorical.py:1587\u001b[0m, in \u001b[0;36m_BarPlotter.plot\u001b[1;34m(self, ax, bar_kws)\u001b[0m\n\u001b[0;32m   1585\u001b[0m \u001b[38;5;250m\u001b[39m\u001b[38;5;124;03m\"\"\"Make the plot.\"\"\"\u001b[39;00m\n\u001b[0;32m   1586\u001b[0m \u001b[38;5;28mself\u001b[39m\u001b[38;5;241m.\u001b[39mdraw_bars(ax, bar_kws)\n\u001b[1;32m-> 1587\u001b[0m \u001b[38;5;28mself\u001b[39m\u001b[38;5;241m.\u001b[39mannotate_axes(ax)\n\u001b[0;32m   1588\u001b[0m \u001b[38;5;28;01mif\u001b[39;00m \u001b[38;5;28mself\u001b[39m\u001b[38;5;241m.\u001b[39morient \u001b[38;5;241m==\u001b[39m \u001b[38;5;124m\"\u001b[39m\u001b[38;5;124mh\u001b[39m\u001b[38;5;124m\"\u001b[39m:\n\u001b[0;32m   1589\u001b[0m     ax\u001b[38;5;241m.\u001b[39minvert_yaxis()\n",
      "File \u001b[1;32m~\\anaconda3\\Lib\\site-packages\\seaborn\\categorical.py:767\u001b[0m, in \u001b[0;36m_CategoricalPlotter.annotate_axes\u001b[1;34m(self, ax)\u001b[0m\n\u001b[0;32m    764\u001b[0m     ax\u001b[38;5;241m.\u001b[39mset_ylim(\u001b[38;5;241m-\u001b[39m\u001b[38;5;241m.5\u001b[39m, \u001b[38;5;28mlen\u001b[39m(\u001b[38;5;28mself\u001b[39m\u001b[38;5;241m.\u001b[39mplot_data) \u001b[38;5;241m-\u001b[39m \u001b[38;5;241m.5\u001b[39m, auto\u001b[38;5;241m=\u001b[39m\u001b[38;5;28;01mNone\u001b[39;00m)\n\u001b[0;32m    766\u001b[0m \u001b[38;5;28;01mif\u001b[39;00m \u001b[38;5;28mself\u001b[39m\u001b[38;5;241m.\u001b[39mhue_names \u001b[38;5;129;01mis\u001b[39;00m \u001b[38;5;129;01mnot\u001b[39;00m \u001b[38;5;28;01mNone\u001b[39;00m:\n\u001b[1;32m--> 767\u001b[0m     ax\u001b[38;5;241m.\u001b[39mlegend(loc\u001b[38;5;241m=\u001b[39m\u001b[38;5;124m\"\u001b[39m\u001b[38;5;124mbest\u001b[39m\u001b[38;5;124m\"\u001b[39m, title\u001b[38;5;241m=\u001b[39m\u001b[38;5;28mself\u001b[39m\u001b[38;5;241m.\u001b[39mhue_title)\n",
      "File \u001b[1;32m~\\anaconda3\\Lib\\site-packages\\matplotlib\\axes\\_axes.py:322\u001b[0m, in \u001b[0;36mAxes.legend\u001b[1;34m(self, *args, **kwargs)\u001b[0m\n\u001b[0;32m    204\u001b[0m \u001b[38;5;129m@_docstring\u001b[39m\u001b[38;5;241m.\u001b[39mdedent_interpd\n\u001b[0;32m    205\u001b[0m \u001b[38;5;28;01mdef\u001b[39;00m \u001b[38;5;21mlegend\u001b[39m(\u001b[38;5;28mself\u001b[39m, \u001b[38;5;241m*\u001b[39margs, \u001b[38;5;241m*\u001b[39m\u001b[38;5;241m*\u001b[39mkwargs):\n\u001b[0;32m    206\u001b[0m \u001b[38;5;250m    \u001b[39m\u001b[38;5;124;03m\"\"\"\u001b[39;00m\n\u001b[0;32m    207\u001b[0m \u001b[38;5;124;03m    Place a legend on the Axes.\u001b[39;00m\n\u001b[0;32m    208\u001b[0m \n\u001b[1;32m   (...)\u001b[0m\n\u001b[0;32m    320\u001b[0m \u001b[38;5;124;03m    .. plot:: gallery/text_labels_and_annotations/legend.py\u001b[39;00m\n\u001b[0;32m    321\u001b[0m \u001b[38;5;124;03m    \"\"\"\u001b[39;00m\n\u001b[1;32m--> 322\u001b[0m     handles, labels, kwargs \u001b[38;5;241m=\u001b[39m mlegend\u001b[38;5;241m.\u001b[39m_parse_legend_args([\u001b[38;5;28mself\u001b[39m], \u001b[38;5;241m*\u001b[39margs, \u001b[38;5;241m*\u001b[39m\u001b[38;5;241m*\u001b[39mkwargs)\n\u001b[0;32m    323\u001b[0m     \u001b[38;5;28mself\u001b[39m\u001b[38;5;241m.\u001b[39mlegend_ \u001b[38;5;241m=\u001b[39m mlegend\u001b[38;5;241m.\u001b[39mLegend(\u001b[38;5;28mself\u001b[39m, handles, labels, \u001b[38;5;241m*\u001b[39m\u001b[38;5;241m*\u001b[39mkwargs)\n\u001b[0;32m    324\u001b[0m     \u001b[38;5;28mself\u001b[39m\u001b[38;5;241m.\u001b[39mlegend_\u001b[38;5;241m.\u001b[39m_remove_method \u001b[38;5;241m=\u001b[39m \u001b[38;5;28mself\u001b[39m\u001b[38;5;241m.\u001b[39m_remove_legend\n",
      "File \u001b[1;32m~\\anaconda3\\Lib\\site-packages\\matplotlib\\legend.py:1361\u001b[0m, in \u001b[0;36m_parse_legend_args\u001b[1;34m(axs, handles, labels, *args, **kwargs)\u001b[0m\n\u001b[0;32m   1357\u001b[0m     handles \u001b[38;5;241m=\u001b[39m [handle \u001b[38;5;28;01mfor\u001b[39;00m handle, label\n\u001b[0;32m   1358\u001b[0m                \u001b[38;5;129;01min\u001b[39;00m \u001b[38;5;28mzip\u001b[39m(_get_legend_handles(axs, handlers), labels)]\n\u001b[0;32m   1360\u001b[0m \u001b[38;5;28;01melif\u001b[39;00m \u001b[38;5;28mlen\u001b[39m(args) \u001b[38;5;241m==\u001b[39m \u001b[38;5;241m0\u001b[39m:  \u001b[38;5;66;03m# 0 args: automatically detect labels and handles.\u001b[39;00m\n\u001b[1;32m-> 1361\u001b[0m     handles, labels \u001b[38;5;241m=\u001b[39m _get_legend_handles_labels(axs, handlers)\n\u001b[0;32m   1362\u001b[0m     \u001b[38;5;28;01mif\u001b[39;00m \u001b[38;5;129;01mnot\u001b[39;00m handles:\n\u001b[0;32m   1363\u001b[0m         log\u001b[38;5;241m.\u001b[39mwarning(\n\u001b[0;32m   1364\u001b[0m             \u001b[38;5;124m\"\u001b[39m\u001b[38;5;124mNo artists with labels found to put in legend.  Note that \u001b[39m\u001b[38;5;124m\"\u001b[39m\n\u001b[0;32m   1365\u001b[0m             \u001b[38;5;124m\"\u001b[39m\u001b[38;5;124martists whose label start with an underscore are ignored \u001b[39m\u001b[38;5;124m\"\u001b[39m\n\u001b[0;32m   1366\u001b[0m             \u001b[38;5;124m\"\u001b[39m\u001b[38;5;124mwhen legend() is called with no argument.\u001b[39m\u001b[38;5;124m\"\u001b[39m)\n",
      "File \u001b[1;32m~\\anaconda3\\Lib\\site-packages\\matplotlib\\legend.py:1291\u001b[0m, in \u001b[0;36m_get_legend_handles_labels\u001b[1;34m(axs, legend_handler_map)\u001b[0m\n\u001b[0;32m   1289\u001b[0m \u001b[38;5;28;01mfor\u001b[39;00m handle \u001b[38;5;129;01min\u001b[39;00m _get_legend_handles(axs, legend_handler_map):\n\u001b[0;32m   1290\u001b[0m     label \u001b[38;5;241m=\u001b[39m handle\u001b[38;5;241m.\u001b[39mget_label()\n\u001b[1;32m-> 1291\u001b[0m     \u001b[38;5;28;01mif\u001b[39;00m label \u001b[38;5;129;01mand\u001b[39;00m \u001b[38;5;129;01mnot\u001b[39;00m label\u001b[38;5;241m.\u001b[39mstartswith(\u001b[38;5;124m'\u001b[39m\u001b[38;5;124m_\u001b[39m\u001b[38;5;124m'\u001b[39m):\n\u001b[0;32m   1292\u001b[0m         handles\u001b[38;5;241m.\u001b[39mappend(handle)\n\u001b[0;32m   1293\u001b[0m         labels\u001b[38;5;241m.\u001b[39mappend(label)\n",
      "\u001b[1;31mAttributeError\u001b[0m: 'numpy.int64' object has no attribute 'startswith'"
     ]
    },
    {
     "data": {
      "image/png": "[encoded data removed]",
      "text/plain": [
       "<Figure size 640x480 with 1 Axes>"
      ]
     },
     "metadata": {},
     "output_type": "display_data"
    }
   ],
   "source": [
    "train['Survived'] = train['Survived'].astype(str) #이거 하면 오류 안 뜸\n",
    "sns.countplot(data = train, x = 'Deck', hue = 'Pclass')\n",
    "# 파랑: 1 / 주황: 2 / 초록: 3"
   ]
  },
  {
   "cell_type": "code",
   "execution_count": 43,
   "id": "5898ff8c-a9e6-4dec-b0ad-1bf4f1815fb9",
   "metadata": {},
   "outputs": [],
   "source": [
    "# M층에는 3등급의 사람이 많았기 때문에 상대적으로 사망률이 높았음을 파악\n",
    "# M이라는 데이터는 더이상 신경쓰지 않아도 된다. 3등급이 많아서 사망률이 높았음을 파악"
   ]
  },
  {
   "cell_type": "markdown",
   "id": "a69a17cf-5a1f-4cd6-af01-742464ba0604",
   "metadata": {},
   "source": [
    "- Sex, Embared (범주형 데이터)에 따른 생존/사망 시각화 해보기"
   ]
  },
  {
   "cell_type": "code",
   "execution_count": 44,
   "id": "bd97bbdc-3946-4408-b59e-bd5565688974",
   "metadata": {},
   "outputs": [
    {
     "data": {
      "image/png": "[encoded data removed]",
      "text/plain": [
       "<Figure size 640x480 with 1 Axes>"
      ]
     },
     "metadata": {},
     "output_type": "display_data"
    }
   ],
   "source": [
    "train['Survived'] = train['Survived'].astype(str) #이거 하면 오류 안 뜸\n",
    "sns.countplot(data = train, x = 'Sex', hue = 'Survived')\n",
    "plt.show()\n",
    "# 남성 사망율이 높고, 여성 생존율이 상대적으로 높음"
   ]
  },
  {
   "cell_type": "code",
   "execution_count": 45,
   "id": "1bd414e4-e90a-4e7d-b727-5a7592ba01ef",
   "metadata": {},
   "outputs": [
    {
     "data": {
      "image/png": "[encoded data removed]",
      "text/plain": [
       "<Figure size 640x480 with 1 Axes>"
      ]
     },
     "metadata": {},
     "output_type": "display_data"
    }
   ],
   "source": [
    "train['Survived'] = train['Survived'].astype(str) #이거 하면 오류 안 뜸\n",
    "sns.countplot(data = train, x = 'Embarked', hue = 'Survived')\n",
    "plt.show()\n",
    "# S항에서 사망율이 가장 높음 -> 혹시 S항에서 남성이 많았던 건 아닌지, Pclass가 3인 사람이 많이 탄 건 아닌가 확인"
   ]
  },
  {
   "cell_type": "code",
   "execution_count": 46,
   "id": "6e42ae35-f147-46f8-a3fb-6a9d340b434c",
   "metadata": {},
   "outputs": [
    {
     "ename": "AttributeError",
     "evalue": "'numpy.int64' object has no attribute 'startswith'",
     "output_type": "error",
     "traceback": [
      "\u001b[1;31m---------------------------------------------------------------------------\u001b[0m",
      "\u001b[1;31mAttributeError\u001b[0m                            Traceback (most recent call last)",
      "Cell \u001b[1;32mIn[46], line 3\u001b[0m\n\u001b[0;32m      1\u001b[0m \u001b[38;5;66;03m# Pclass가 3인 사람이 많이 탄 건 아닌가?\u001b[39;00m\n\u001b[0;32m      2\u001b[0m train[\u001b[38;5;124m'\u001b[39m\u001b[38;5;124mSurvived\u001b[39m\u001b[38;5;124m'\u001b[39m] \u001b[38;5;241m=\u001b[39m train[\u001b[38;5;124m'\u001b[39m\u001b[38;5;124mSurvived\u001b[39m\u001b[38;5;124m'\u001b[39m]\u001b[38;5;241m.\u001b[39mastype(\u001b[38;5;28mstr\u001b[39m) \u001b[38;5;66;03m#이거 하면 오류 안 뜸\u001b[39;00m\n\u001b[1;32m----> 3\u001b[0m sns\u001b[38;5;241m.\u001b[39mcountplot(data \u001b[38;5;241m=\u001b[39m train, x \u001b[38;5;241m=\u001b[39m \u001b[38;5;124m'\u001b[39m\u001b[38;5;124mEmbarked\u001b[39m\u001b[38;5;124m'\u001b[39m, hue \u001b[38;5;241m=\u001b[39m \u001b[38;5;124m'\u001b[39m\u001b[38;5;124mPclass\u001b[39m\u001b[38;5;124m'\u001b[39m)\n\u001b[0;32m      4\u001b[0m plt\u001b[38;5;241m.\u001b[39mshow()\n",
      "File \u001b[1;32m~\\anaconda3\\Lib\\site-packages\\seaborn\\categorical.py:2955\u001b[0m, in \u001b[0;36mcountplot\u001b[1;34m(data, x, y, hue, order, hue_order, orient, color, palette, saturation, width, dodge, ax, **kwargs)\u001b[0m\n\u001b[0;32m   2952\u001b[0m \u001b[38;5;28;01mif\u001b[39;00m ax \u001b[38;5;129;01mis\u001b[39;00m \u001b[38;5;28;01mNone\u001b[39;00m:\n\u001b[0;32m   2953\u001b[0m     ax \u001b[38;5;241m=\u001b[39m plt\u001b[38;5;241m.\u001b[39mgca()\n\u001b[1;32m-> 2955\u001b[0m plotter\u001b[38;5;241m.\u001b[39mplot(ax, kwargs)\n\u001b[0;32m   2956\u001b[0m \u001b[38;5;28;01mreturn\u001b[39;00m ax\n",
      "File \u001b[1;32m~\\anaconda3\\Lib\\site-packages\\seaborn\\categorical.py:1587\u001b[0m, in \u001b[0;36m_BarPlotter.plot\u001b[1;34m(self, ax, bar_kws)\u001b[0m\n\u001b[0;32m   1585\u001b[0m \u001b[38;5;250m\u001b[39m\u001b[38;5;124;03m\"\"\"Make the plot.\"\"\"\u001b[39;00m\n\u001b[0;32m   1586\u001b[0m \u001b[38;5;28mself\u001b[39m\u001b[38;5;241m.\u001b[39mdraw_bars(ax, bar_kws)\n\u001b[1;32m-> 1587\u001b[0m \u001b[38;5;28mself\u001b[39m\u001b[38;5;241m.\u001b[39mannotate_axes(ax)\n\u001b[0;32m   1588\u001b[0m \u001b[38;5;28;01mif\u001b[39;00m \u001b[38;5;28mself\u001b[39m\u001b[38;5;241m.\u001b[39morient \u001b[38;5;241m==\u001b[39m \u001b[38;5;124m\"\u001b[39m\u001b[38;5;124mh\u001b[39m\u001b[38;5;124m\"\u001b[39m:\n\u001b[0;32m   1589\u001b[0m     ax\u001b[38;5;241m.\u001b[39minvert_yaxis()\n",
      "File \u001b[1;32m~\\anaconda3\\Lib\\site-packages\\seaborn\\categorical.py:767\u001b[0m, in \u001b[0;36m_CategoricalPlotter.annotate_axes\u001b[1;34m(self, ax)\u001b[0m\n\u001b[0;32m    764\u001b[0m     ax\u001b[38;5;241m.\u001b[39mset_ylim(\u001b[38;5;241m-\u001b[39m\u001b[38;5;241m.5\u001b[39m, \u001b[38;5;28mlen\u001b[39m(\u001b[38;5;28mself\u001b[39m\u001b[38;5;241m.\u001b[39mplot_data) \u001b[38;5;241m-\u001b[39m \u001b[38;5;241m.5\u001b[39m, auto\u001b[38;5;241m=\u001b[39m\u001b[38;5;28;01mNone\u001b[39;00m)\n\u001b[0;32m    766\u001b[0m \u001b[38;5;28;01mif\u001b[39;00m \u001b[38;5;28mself\u001b[39m\u001b[38;5;241m.\u001b[39mhue_names \u001b[38;5;129;01mis\u001b[39;00m \u001b[38;5;129;01mnot\u001b[39;00m \u001b[38;5;28;01mNone\u001b[39;00m:\n\u001b[1;32m--> 767\u001b[0m     ax\u001b[38;5;241m.\u001b[39mlegend(loc\u001b[38;5;241m=\u001b[39m\u001b[38;5;124m\"\u001b[39m\u001b[38;5;124mbest\u001b[39m\u001b[38;5;124m\"\u001b[39m, title\u001b[38;5;241m=\u001b[39m\u001b[38;5;28mself\u001b[39m\u001b[38;5;241m.\u001b[39mhue_title)\n",
      "File \u001b[1;32m~\\anaconda3\\Lib\\site-packages\\matplotlib\\axes\\_axes.py:322\u001b[0m, in \u001b[0;36mAxes.legend\u001b[1;34m(self, *args, **kwargs)\u001b[0m\n\u001b[0;32m    204\u001b[0m \u001b[38;5;129m@_docstring\u001b[39m\u001b[38;5;241m.\u001b[39mdedent_interpd\n\u001b[0;32m    205\u001b[0m \u001b[38;5;28;01mdef\u001b[39;00m \u001b[38;5;21mlegend\u001b[39m(\u001b[38;5;28mself\u001b[39m, \u001b[38;5;241m*\u001b[39margs, \u001b[38;5;241m*\u001b[39m\u001b[38;5;241m*\u001b[39mkwargs):\n\u001b[0;32m    206\u001b[0m \u001b[38;5;250m    \u001b[39m\u001b[38;5;124;03m\"\"\"\u001b[39;00m\n\u001b[0;32m    207\u001b[0m \u001b[38;5;124;03m    Place a legend on the Axes.\u001b[39;00m\n\u001b[0;32m    208\u001b[0m \n\u001b[1;32m   (...)\u001b[0m\n\u001b[0;32m    320\u001b[0m \u001b[38;5;124;03m    .. plot:: gallery/text_labels_and_annotations/legend.py\u001b[39;00m\n\u001b[0;32m    321\u001b[0m \u001b[38;5;124;03m    \"\"\"\u001b[39;00m\n\u001b[1;32m--> 322\u001b[0m     handles, labels, kwargs \u001b[38;5;241m=\u001b[39m mlegend\u001b[38;5;241m.\u001b[39m_parse_legend_args([\u001b[38;5;28mself\u001b[39m], \u001b[38;5;241m*\u001b[39margs, \u001b[38;5;241m*\u001b[39m\u001b[38;5;241m*\u001b[39mkwargs)\n\u001b[0;32m    323\u001b[0m     \u001b[38;5;28mself\u001b[39m\u001b[38;5;241m.\u001b[39mlegend_ \u001b[38;5;241m=\u001b[39m mlegend\u001b[38;5;241m.\u001b[39mLegend(\u001b[38;5;28mself\u001b[39m, handles, labels, \u001b[38;5;241m*\u001b[39m\u001b[38;5;241m*\u001b[39mkwargs)\n\u001b[0;32m    324\u001b[0m     \u001b[38;5;28mself\u001b[39m\u001b[38;5;241m.\u001b[39mlegend_\u001b[38;5;241m.\u001b[39m_remove_method \u001b[38;5;241m=\u001b[39m \u001b[38;5;28mself\u001b[39m\u001b[38;5;241m.\u001b[39m_remove_legend\n",
      "File \u001b[1;32m~\\anaconda3\\Lib\\site-packages\\matplotlib\\legend.py:1361\u001b[0m, in \u001b[0;36m_parse_legend_args\u001b[1;34m(axs, handles, labels, *args, **kwargs)\u001b[0m\n\u001b[0;32m   1357\u001b[0m     handles \u001b[38;5;241m=\u001b[39m [handle \u001b[38;5;28;01mfor\u001b[39;00m handle, label\n\u001b[0;32m   1358\u001b[0m                \u001b[38;5;129;01min\u001b[39;00m \u001b[38;5;28mzip\u001b[39m(_get_legend_handles(axs, handlers), labels)]\n\u001b[0;32m   1360\u001b[0m \u001b[38;5;28;01melif\u001b[39;00m \u001b[38;5;28mlen\u001b[39m(args) \u001b[38;5;241m==\u001b[39m \u001b[38;5;241m0\u001b[39m:  \u001b[38;5;66;03m# 0 args: automatically detect labels and handles.\u001b[39;00m\n\u001b[1;32m-> 1361\u001b[0m     handles, labels \u001b[38;5;241m=\u001b[39m _get_legend_handles_labels(axs, handlers)\n\u001b[0;32m   1362\u001b[0m     \u001b[38;5;28;01mif\u001b[39;00m \u001b[38;5;129;01mnot\u001b[39;00m handles:\n\u001b[0;32m   1363\u001b[0m         log\u001b[38;5;241m.\u001b[39mwarning(\n\u001b[0;32m   1364\u001b[0m             \u001b[38;5;124m\"\u001b[39m\u001b[38;5;124mNo artists with labels found to put in legend.  Note that \u001b[39m\u001b[38;5;124m\"\u001b[39m\n\u001b[0;32m   1365\u001b[0m             \u001b[38;5;124m\"\u001b[39m\u001b[38;5;124martists whose label start with an underscore are ignored \u001b[39m\u001b[38;5;124m\"\u001b[39m\n\u001b[0;32m   1366\u001b[0m             \u001b[38;5;124m\"\u001b[39m\u001b[38;5;124mwhen legend() is called with no argument.\u001b[39m\u001b[38;5;124m\"\u001b[39m)\n",
      "File \u001b[1;32m~\\anaconda3\\Lib\\site-packages\\matplotlib\\legend.py:1291\u001b[0m, in \u001b[0;36m_get_legend_handles_labels\u001b[1;34m(axs, legend_handler_map)\u001b[0m\n\u001b[0;32m   1289\u001b[0m \u001b[38;5;28;01mfor\u001b[39;00m handle \u001b[38;5;129;01min\u001b[39;00m _get_legend_handles(axs, legend_handler_map):\n\u001b[0;32m   1290\u001b[0m     label \u001b[38;5;241m=\u001b[39m handle\u001b[38;5;241m.\u001b[39mget_label()\n\u001b[1;32m-> 1291\u001b[0m     \u001b[38;5;28;01mif\u001b[39;00m label \u001b[38;5;129;01mand\u001b[39;00m \u001b[38;5;129;01mnot\u001b[39;00m label\u001b[38;5;241m.\u001b[39mstartswith(\u001b[38;5;124m'\u001b[39m\u001b[38;5;124m_\u001b[39m\u001b[38;5;124m'\u001b[39m):\n\u001b[0;32m   1292\u001b[0m         handles\u001b[38;5;241m.\u001b[39mappend(handle)\n\u001b[0;32m   1293\u001b[0m         labels\u001b[38;5;241m.\u001b[39mappend(label)\n",
      "\u001b[1;31mAttributeError\u001b[0m: 'numpy.int64' object has no attribute 'startswith'"
     ]
    },
    {
     "data": {
      "image/png": "[encoded data removed]",
      "text/plain": [
       "<Figure size 640x480 with 1 Axes>"
      ]
     },
     "metadata": {},
     "output_type": "display_data"
    }
   ],
   "source": [
    "# Pclass가 3인 사람이 많이 탄 건 아닌가?\n",
    "train['Survived'] = train['Survived'].astype(str) #이거 하면 오류 안 뜸\n",
    "sns.countplot(data = train, x = 'Embarked', hue = 'Pclass')\n",
    "plt.show()\n",
    "# Pclass가 3인 사람이 S항에서 많이 탑승했었던 걸 알 수 있음"
   ]
  },
  {
   "cell_type": "code",
   "execution_count": 47,
   "id": "e0520758-7c30-43b3-a60a-e28f1136161c",
   "metadata": {},
   "outputs": [
    {
     "data": {
      "image/png": "[encoded data removed]",
      "text/plain": [
       "<Figure size 640x480 with 1 Axes>"
      ]
     },
     "metadata": {},
     "output_type": "display_data"
    }
   ],
   "source": [
    "# 나이에 따른 생존율 시각화\n",
    "train['Survived'] = train['Survived'].astype(str) #이거 하면 오류 안 뜸\n",
    "sns.countplot(data = train, x = 'Age', hue = 'Survived')\n",
    "plt.show()\n",
    "# 나이 데이터를 countplot로 시각화했더니, 해석하기가 힘듦 \n",
    "# -> violinplot을 활용해보자 : 수치형 데이터의 분포를 확인할 때 사용하는 그래프"
   ]
  },
  {
   "cell_type": "code",
   "execution_count": 48,
   "id": "40d60fb9-8e2e-4c1f-a5de-82a43a84123c",
   "metadata": {},
   "outputs": [
    {
     "data": {
      "image/png": "[encoded data removed]",
      "text/plain": [
       "<Figure size 640x480 with 1 Axes>"
      ]
     },
     "metadata": {},
     "output_type": "display_data"
    }
   ],
   "source": [
    "# 바이올린 형태로 데이터의 분포와 밀도를 보기 좋게 곡선으로 표현한 그래프\n",
    "# 데이터가 많이 존재하는 부분은 두껍게\n",
    "# 데이터가 적게 존재하는 부분은 얇게\n",
    "\n",
    "# 성별과 나이에 따른 생존/사망자 수를 확인해보자\n",
    "sns.violinplot(\n",
    "    data = train,\n",
    "    x = 'Sex',\n",
    "    y = 'Age',\n",
    "    hue = 'Survived',\n",
    "    split = True,\n",
    "    inner = \"stick\"  # 실제로 데이터가 있는 위치에 줄이 그어져있음, 줄 없는 애들은  걍 바이올린 모양때문에 자리 차지하는 거\n",
    ")\n",
    "plt.ylim(0, 80) # y축 숫자 설정\n",
    "plt.show()"
   ]
  },
  {
   "cell_type": "code",
   "execution_count": 49,
   "id": "1d5af1ca-7421-4a38-b7a5-39f6dd0b97eb",
   "metadata": {},
   "outputs": [
    {
     "data": {
      "image/png": "[encoded data removed]",
      "text/plain": [
       "<Figure size 640x480 with 1 Axes>"
      ]
     },
     "metadata": {},
     "output_type": "display_data"
    }
   ],
   "source": [
    "# Sex와 Fare에 따른 Survived를 시각화 해보자\n",
    "# 성별과 요금에 따른 생존율\n",
    "# 요금을 적게 낸 사람들이 생존율이 더 낮음, 요금이 높은 사람은 생존율이 높음\n",
    "sns.violinplot(\n",
    "    data = train,\n",
    "    x = 'Sex',\n",
    "    y = 'Fare',\n",
    "    hue = 'Survived',\n",
    "    inner = 'stick',\n",
    "    split = True\n",
    ")\n",
    "plt.ylim(0, 300)\n",
    "plt.show()"
   ]
  },
  {
   "cell_type": "markdown",
   "id": "1c2a1991-a0f2-4971-8c37-86c28c1c05d3",
   "metadata": {},
   "source": [
    "- 특성공학 : 새로운 컬럼을 생성 (transform)\n",
    "  - parch, sibsp를 더해서 가족의 숫자라는 새로운 컬럼을 생성해보자\n",
    "  - train, test 동일하게 적용해야함."
   ]
  },
  {
   "cell_type": "code",
   "execution_count": 50,
   "id": "2ec39a77-344f-4332-a173-10b47b169017",
   "metadata": {},
   "outputs": [
    {
     "data": {
      "text/plain": [
       "PassengerId\n",
       "1      2\n",
       "2      2\n",
       "3      1\n",
       "4      2\n",
       "5      1\n",
       "      ..\n",
       "887    1\n",
       "888    1\n",
       "889    4\n",
       "890    1\n",
       "891    1\n",
       "Name: Family_Size, Length: 891, dtype: int64"
      ]
     },
     "execution_count": 50,
     "metadata": {},
     "output_type": "execute_result"
    }
   ],
   "source": [
    "train['Family_Size'] = train['Parch'] + train['SibSp'] + 1 # +1 : 본인을 포함시키기 위함\n",
    "train['Family_Size']"
   ]
  },
  {
   "cell_type": "code",
   "execution_count": 51,
   "id": "36d8dbef-25d7-41cd-a62b-bfc66d6c9101",
   "metadata": {},
   "outputs": [
    {
     "data": {
      "text/plain": [
       "PassengerId\n",
       "892     1\n",
       "893     2\n",
       "894     1\n",
       "895     1\n",
       "896     3\n",
       "       ..\n",
       "1305    1\n",
       "1306    1\n",
       "1307    1\n",
       "1308    1\n",
       "1309    3\n",
       "Name: Family_Size, Length: 418, dtype: int64"
      ]
     },
     "execution_count": 51,
     "metadata": {},
     "output_type": "execute_result"
    }
   ],
   "source": [
    "test['Family_Size'] = test['Parch'] + test['SibSp'] + 1 # +1 : 본인을 포함시키기 위함\n",
    "test['Family_Size']"
   ]
  },
  {
   "cell_type": "code",
   "execution_count": 52,
   "id": "b6abc0be-d77d-4759-a929-c9302f3e0605",
   "metadata": {},
   "outputs": [
    {
     "data": {
      "image/png": "[encoded data removed]",
      "text/plain": [
       "<Figure size 640x480 with 1 Axes>"
      ]
     },
     "metadata": {},
     "output_type": "display_data"
    }
   ],
   "source": [
    "# 시각화\n",
    "train['Survived'] = train['Survived'].astype(str) #이거 하면 오류 안 뜸\n",
    "sns.countplot(data = train, x = 'Family_Size', hue = 'Survived')\n",
    "plt.show()\n",
    "# 1명이서 왔을 땐 사망율이 많고 2~4명 가족일 땐 생존율이 더 높고 그 이상은 사망율이 더 높다."
   ]
  },
  {
   "cell_type": "code",
   "execution_count": 53,
   "id": "8b9c02e7-b2e0-4a2a-b059-48796605b5a5",
   "metadata": {},
   "outputs": [],
   "source": [
    "# 1명이서 왔을 땐 사망율이 많다 - small  \n",
    "# 2~4명 가족일 땐 생존율이 더 높고 normal \n",
    "# 그 이상은 사망율이 더 높다. large \n",
    "# 수치형 데이터를 범주형 데이터로 만들어서 갯수를 줄여보자 - binning\n",
    "# binning 작업을 통해서 사소한 관찰의 오류를 줄여주자!"
   ]
  },
  {
   "cell_type": "markdown",
   "id": "c3184621-9e2a-4230-a6e2-836fc0510c53",
   "metadata": {},
   "source": [
    "- 가족의 사이즈가 1이면 Alone, 2-4명이면 Small, 5명 이상이면 Large로 바꿔주자\n",
    "- train, test 둘 다 변경"
   ]
  },
  {
   "cell_type": "code",
   "execution_count": 54,
   "id": "e093371f-db51-49bb-9740-7316f803f709",
   "metadata": {},
   "outputs": [],
   "source": [
    "bins = [0, 1, 4, 11] #숫자 범위 설정\n",
    "# (0, 1] - 1 ~ 1 소괄호는 포함하지 않고 대괄호는 포함하겠다 라는 의미, 초과 , 이하\n",
    "# (1, 4] - 2 ~ 4\n",
    "# (4, 11] - 5 ~ 11 \n",
    "labels = ['Alone', 'Small', 'Large']\n",
    "\n",
    "# size는 뭔가 수치형 데이터를 포함하고 있는 것 같으니 group 라는 새로운 컬럼을 생성해보자!\n",
    "train['Family_group'] = pd.cut(train['Family_Size'], bins = bins, labels = labels)\n",
    "test['Family_group'] = pd.cut(test['Family_Size'], bins = bins, labels = labels)"
   ]
  },
  {
   "cell_type": "markdown",
   "id": "45f4c06b-92a6-4f95-a3ac-924325cad7ec",
   "metadata": {},
   "source": [
    "#### 1명 : 사망률 높다 -- Alon\n",
    "- 1명 : 사망률 높다 -- Alon\n",
    "- 2명 ~ 4명 : 생존율 높다 --> Small\n",
    "- 5명 이상 : 사망률 높다 --> Large\n",
    "- 같은 특성의 데이터 또는 같은 패턴을 가진 데이터들끼리 다시 한 번 더 묶어주는 작업\n",
    "- 수치형 데이터를 범주형 데이터로 바꿔주는 작업: Binning\n",
    "- Binning해서 Family Group라는 새로운 컬럼을 생서해서 데이터를 저장: Train, Test"
   ]
  },
  {
   "cell_type": "code",
   "execution_count": 55,
   "id": "16a93327-f9aa-481c-bdeb-aa20fc9eb061",
   "metadata": {},
   "outputs": [
    {
     "name": "stderr",
     "output_type": "stream",
     "text": [
      "C:\\Users\\smhrd\\anaconda3\\Lib\\site-packages\\seaborn\\categorical.py:641: FutureWarning: The default of observed=False is deprecated and will be changed to True in a future version of pandas. Pass observed=False to retain current behavior or observed=True to adopt the future default and silence this warning.\n",
      "  grouped_vals = vals.groupby(grouper)\n",
      "C:\\Users\\smhrd\\anaconda3\\Lib\\site-packages\\seaborn\\categorical.py:641: FutureWarning: The default of observed=False is deprecated and will be changed to True in a future version of pandas. Pass observed=False to retain current behavior or observed=True to adopt the future default and silence this warning.\n",
      "  grouped_vals = vals.groupby(grouper)\n"
     ]
    },
    {
     "data": {
      "image/png": "[encoded data removed]",
      "text/plain": [
       "<Figure size 640x480 with 1 Axes>"
      ]
     },
     "metadata": {},
     "output_type": "display_data"
    }
   ],
   "source": [
    "# Family_group 컬럼에 따른 Survived(생존자/사망자)를 시각화 - countplot\n",
    "train['Survived'] = train['Survived'] #이거 하면 오류 안 뜸\n",
    "sns.countplot(data = train, x = 'Family_group', hue = 'Survived')\n",
    "plt.show()"
   ]
  },
  {
   "cell_type": "markdown",
   "id": "97526aea-b196-485e-b79b-857705e5181e",
   "metadata": {},
   "source": [
    "* 불필요한 컬럼 삭제\n",
    "   - drop 버리기\n",
    "   - 전처리 대상에서 제외된 컬럼과 특성공학 후 불필요해진 컬럼 <br>\n",
    "     -> 5, 6, 11 은 family_group로 만들었음 <br>\n",
    "     -> 2, 7 번은 결과에 영향을 주지 않을 데이터임 <br>\n",
    "\n",
    "* 필요없는 컬럼을 삭제하는 기준\n",
    "  1) 전처리를 하지 않은 컬럼\n",
    "     - Name, Ticket\n",
    "  2) 데이터 전처리 과정을 통해 새롭게 생성한 컬럼으로 인해 더 이상 필요가 없어진 컬럼\n",
    "     - SibSp, Parch, FamlySize.. (Family_group이 위에 컬럼을 통해 새로 생겨난 컬럼) 컬럼)"
   ]
  },
  {
   "cell_type": "code",
   "execution_count": 56,
   "id": "9487469d-5288-48b9-9bf1-f958f9d0eddc",
   "metadata": {
    "scrolled": true
   },
   "outputs": [
    {
     "name": "stdout",
     "output_type": "stream",
     "text": [
      "<class 'pandas.core.frame.DataFrame'>\n",
      "Index: 891 entries, 1 to 891\n",
      "Data columns (total 13 columns):\n",
      " #   Column        Non-Null Count  Dtype   \n",
      "---  ------        --------------  -----   \n",
      " 0   Survived      891 non-null    object  \n",
      " 1   Pclass        891 non-null    int64   \n",
      " 2   Name          891 non-null    object  \n",
      " 3   Sex           891 non-null    object  \n",
      " 4   Age           891 non-null    int64   \n",
      " 5   SibSp         891 non-null    int64   \n",
      " 6   Parch         891 non-null    int64   \n",
      " 7   Ticket        891 non-null    object  \n",
      " 8   Fare          891 non-null    float64 \n",
      " 9   Embarked      891 non-null    object  \n",
      " 10  Deck          891 non-null    object  \n",
      " 11  Family_Size   891 non-null    int64   \n",
      " 12  Family_group  891 non-null    category\n",
      "dtypes: category(1), float64(1), int64(5), object(6)\n",
      "memory usage: 91.5+ KB\n"
     ]
    }
   ],
   "source": [
    "train.info()"
   ]
  },
  {
   "cell_type": "code",
   "execution_count": 57,
   "id": "747552e5-495e-49f4-85a2-1282be79285e",
   "metadata": {
    "scrolled": true
   },
   "outputs": [
    {
     "name": "stdout",
     "output_type": "stream",
     "text": [
      "<class 'pandas.core.frame.DataFrame'>\n",
      "Index: 418 entries, 892 to 1309\n",
      "Data columns (total 12 columns):\n",
      " #   Column        Non-Null Count  Dtype   \n",
      "---  ------        --------------  -----   \n",
      " 0   Pclass        418 non-null    int64   \n",
      " 1   Name          418 non-null    object  \n",
      " 2   Sex           418 non-null    object  \n",
      " 3   Age           418 non-null    int64   \n",
      " 4   SibSp         418 non-null    int64   \n",
      " 5   Parch         418 non-null    int64   \n",
      " 6   Ticket        418 non-null    object  \n",
      " 7   Fare          418 non-null    float64 \n",
      " 8   Embarked      418 non-null    object  \n",
      " 9   Deck          418 non-null    object  \n",
      " 10  Family_Size   418 non-null    int64   \n",
      " 11  Family_group  418 non-null    category\n",
      "dtypes: category(1), float64(1), int64(5), object(5)\n",
      "memory usage: 39.7+ KB\n"
     ]
    }
   ],
   "source": [
    "test.info()"
   ]
  },
  {
   "cell_type": "code",
   "execution_count": 58,
   "id": "421b55df-e7da-468c-9faa-a7c1464c6451",
   "metadata": {},
   "outputs": [],
   "source": [
    "# 컬럼 삭제\n",
    "# drop, axis = 1, inplace = True\n",
    "train.drop(['Name', 'Ticket', 'SibSp', 'Parch', 'Family_Size'], axis = 1, inplace = True)\n",
    "test.drop(['Name', 'Ticket', 'SibSp', 'Parch', 'Family_Size'], axis = 1, inplace = True)"
   ]
  },
  {
   "cell_type": "code",
   "execution_count": 59,
   "id": "e2f52afe-9cf1-410d-9f35-a0ff0918bd0e",
   "metadata": {},
   "outputs": [
    {
     "data": {
      "text/plain": [
       "(Index(['Survived', 'Pclass', 'Sex', 'Age', 'Fare', 'Embarked', 'Deck',\n",
       "        'Family_group'],\n",
       "       dtype='object'),\n",
       " Index(['Pclass', 'Sex', 'Age', 'Fare', 'Embarked', 'Deck', 'Family_group'], dtype='object'))"
      ]
     },
     "execution_count": 59,
     "metadata": {},
     "output_type": "execute_result"
    }
   ],
   "source": [
    "train.columns, test.columns"
   ]
  },
  {
   "cell_type": "markdown",
   "id": "56d9131f-a648-44d6-9110-3cd21cdfe91f",
   "metadata": {},
   "source": [
    "- 전처리 과정은 마무리가 되었다!\n",
    "- train에는 정답 데이터와 문제 데이터가 하나의 프레임으로 들어있는 상대\n",
    "  (X_train, y_train으로 분리)\n",
    "- test는 원래 정답을 제공하지 않음 (y_test)\n",
    "- y_test가 없는 이유는 타이타닉 데이터는 KAggle에 제출해야 실제 정답과 비교가 되는 데이터 셋이 구비가 되어 있기 때문"
   ]
  },
  {
   "cell_type": "code",
   "execution_count": 60,
   "id": "424d3e6b-233a-4246-91f7-fee3b6703ffe",
   "metadata": {},
   "outputs": [
    {
     "name": "stdout",
     "output_type": "stream",
     "text": [
      "(891, 7) (891,)\n",
      "(418, 7)\n"
     ]
    }
   ],
   "source": [
    "X_train = train.drop('Survived', axis = 1) # 훈련용 문제 데이터\n",
    "y_train = train['Survived'] #훈련용 정답 데이터\n",
    "\n",
    "X_test = test\n",
    "\n",
    "print(X_train.shape, y_train.shape)\n",
    "print(X_test.shape)\n",
    "\n",
    "# X_train.info()\n",
    "# 문제의 개수 7개로 훈련 문제와 테스트 문제가 동일한 걸 판단할 수 있다. "
   ]
  },
  {
   "cell_type": "markdown",
   "id": "2c552098-6b27-4287-801b-923d0cd4bf32",
   "metadata": {},
   "source": [
    "## 다시 전처리 단계로 넘어가서\n",
    "- X_train, X_test의 범주형 데이터를 학습용으로 사용하기 위해 수치형 데이터로 바꿔주는 작업을 진행\n",
    "- Encoding\n",
    "  1) 레이블 인코딩(label Encoding) : 값에 우선순위를 주고 싶을 때 사용하는 방법\n",
    "  2) 원-핫 인코딩(one-hot Encoding) : 값에 우선순위를 주고 싶지 않고 구분하는 용도로만 사용하는 방법\n",
    "- 우리는 구분 용도를 위해 one-hot Encoding으로 진행해보자"
   ]
  },
  {
   "cell_type": "code",
   "execution_count": 61,
   "id": "41c718d4-d8ed-4493-a701-2111876be3a8",
   "metadata": {},
   "outputs": [
    {
     "name": "stdout",
     "output_type": "stream",
     "text": [
      "<class 'pandas.core.frame.DataFrame'>\n",
      "Index: 891 entries, 1 to 891\n",
      "Data columns (total 8 columns):\n",
      " #   Column        Non-Null Count  Dtype   \n",
      "---  ------        --------------  -----   \n",
      " 0   Survived      891 non-null    object  \n",
      " 1   Pclass        891 non-null    int64   \n",
      " 2   Sex           891 non-null    object  \n",
      " 3   Age           891 non-null    int64   \n",
      " 4   Fare          891 non-null    float64 \n",
      " 5   Embarked      891 non-null    object  \n",
      " 6   Deck          891 non-null    object  \n",
      " 7   Family_group  891 non-null    category\n",
      "dtypes: category(1), float64(1), int64(2), object(4)\n",
      "memory usage: 56.7+ KB\n"
     ]
    }
   ],
   "source": [
    "# 오류 잡겠다고 깝쳐서 Pclass가 object됨. 그래서 여기서 강제 형변환해줌\n",
    "train['Pclass'] = train['Pclass'].astype('int64')\n",
    "test['Pclass'] = test['Pclass'].astype('int64')\n",
    "train.info()"
   ]
  },
  {
   "cell_type": "markdown",
   "id": "c3d52746-34a5-463a-bf0f-4214300c7775",
   "metadata": {},
   "source": [
    "#### 원 핫 인코딩 선택\n",
    "- 타이타닉 데이터는 숫자형 데이터, 문자형 데이터 컬럼이 섞여있음\n",
    "- 문자열 데이터로 된 컬럼만 필터링 작업"
   ]
  },
  {
   "cell_type": "code",
   "execution_count": 62,
   "id": "5a3109ad-982d-4dca-ad0e-09e235681883",
   "metadata": {},
   "outputs": [
    {
     "data": {
      "text/html": [
       "<div>\n",
       "<style scoped>\n",
       "    .dataframe tbody tr th:only-of-type {\n",
       "        vertical-align: middle;\n",
       "    }\n",
       "\n",
       "    .dataframe tbody tr th {\n",
       "        vertical-align: top;\n",
       "    }\n",
       "\n",
       "    .dataframe thead th {\n",
       "        text-align: right;\n",
       "    }\n",
       "</style>\n",
       "<table border=\"1\" class=\"dataframe\">\n",
       "  <thead>\n",
       "    <tr style=\"text-align: right;\">\n",
       "      <th></th>\n",
       "      <th>Sex</th>\n",
       "      <th>Embarked</th>\n",
       "      <th>Deck</th>\n",
       "      <th>Family_group</th>\n",
       "    </tr>\n",
       "    <tr>\n",
       "      <th>PassengerId</th>\n",
       "      <th></th>\n",
       "      <th></th>\n",
       "      <th></th>\n",
       "      <th></th>\n",
       "    </tr>\n",
       "  </thead>\n",
       "  <tbody>\n",
       "    <tr>\n",
       "      <th>1</th>\n",
       "      <td>male</td>\n",
       "      <td>S</td>\n",
       "      <td>M</td>\n",
       "      <td>Small</td>\n",
       "    </tr>\n",
       "    <tr>\n",
       "      <th>2</th>\n",
       "      <td>female</td>\n",
       "      <td>C</td>\n",
       "      <td>C</td>\n",
       "      <td>Small</td>\n",
       "    </tr>\n",
       "  </tbody>\n",
       "</table>\n",
       "</div>"
      ],
      "text/plain": [
       "                Sex Embarked Deck Family_group\n",
       "PassengerId                                   \n",
       "1              male        S    M        Small\n",
       "2            female        C    C        Small"
      ]
     },
     "execution_count": 62,
     "metadata": {},
     "output_type": "execute_result"
    }
   ],
   "source": [
    "# int와 float를 제외하고 다른 데이터를 선택할 수 있는 방법\n",
    "# 카테고리 필터링을 진행해보자\n",
    "cat_filter = (X_train.dtypes != 'int64') & (X_train.dtypes != 'float64')\n",
    "# X_train에서 컬럼중에 데이터타입이 int가 아닌 컬럼들을 변수에 담아주는 코드\n",
    "cat_filter\n",
    "\n",
    "cat_choice = X_train.columns[cat_filter] # true 인 것들만 담았음. 인덱스(문자열)인 놈들..\n",
    "cat_choice\n",
    "X_train[cat_choice].head(2)\n",
    "# X_train에서 cat_choice에 해당하는 컬럼들을 원핫인코딩을 진행하자!\n",
    "# X_train\n",
    "# y_train.info()\n",
    "# test.info()\n",
    "# cat_choice.info()"
   ]
  },
  {
   "cell_type": "code",
   "execution_count": 63,
   "id": "946c6cbe-db02-4b51-a14f-d66bf8df996c",
   "metadata": {},
   "outputs": [],
   "source": [
    "# 해당 cat_choice 컬럼을 인코딩해서 기존 train, test 데이터와 병합\n",
    "# 1) 원핫인코딩 (cat_choice) pd.get_dummies (데이터)\n",
    "X_train_c_oh = pd.get_dummies(X_train[cat_choice]) #X_train 중 cat_choice 문자열인 놈들만 인코딩함\n",
    "X_test_c_oh = pd.get_dummies(X_test[cat_choice])\n",
    "# X_train_c_oh.info()\n",
    "\n",
    "# 2) 병합 concat, X_train과 X_train_c_oh를 병합 (병합할 두 개의 데이터, axis = 1)\n",
    "X_train = pd.concat([X_train, X_train_c_oh], axis = 1) #X_train_c_oh : 문자열이 인코딩된 컬럼들을 기본 컬럼에 병합\n",
    "X_test = pd.concat([X_test, X_test_c_oh], axis = 1)\n",
    "\n",
    "# # 3) 기존 컬럼 (범주형 데이터가 들어가있는 컬럼 : cat_choice)은 삭제한다 - drop axis = 1\n",
    "X_train = X_train.drop(cat_choice, axis = 1)  #X_train_c_oh 이거 병합해줬으니까 원래 문자열인 놈들은 drop \n",
    "X_test = X_test.drop(cat_choice, axis = 1)\n",
    "# X_test"
   ]
  },
  {
   "cell_type": "code",
   "execution_count": 64,
   "id": "1cfdd45a-5717-4f82-b4c1-148fb406e2b9",
   "metadata": {},
   "outputs": [
    {
     "name": "stdout",
     "output_type": "stream",
     "text": [
      "(891, 20)\n",
      "(418, 19)\n"
     ]
    }
   ],
   "source": [
    "print(X_train.shape)\n",
    "print(X_test.shape)"
   ]
  },
  {
   "cell_type": "code",
   "execution_count": 65,
   "id": "838888ff-ccf6-40df-909a-8a6470381221",
   "metadata": {},
   "outputs": [
    {
     "data": {
      "text/plain": [
       "(Index(['Pclass', 'Age', 'Fare', 'Sex_female', 'Sex_male', 'Embarked_C',\n",
       "        'Embarked_Q', 'Embarked_S', 'Deck_A', 'Deck_B', 'Deck_C', 'Deck_D',\n",
       "        'Deck_E', 'Deck_F', 'Deck_G', 'Deck_M', 'Deck_T', 'Family_group_Alone',\n",
       "        'Family_group_Small', 'Family_group_Large'],\n",
       "       dtype='object'),\n",
       " Index(['Pclass', 'Age', 'Fare', 'Sex_female', 'Sex_male', 'Embarked_C',\n",
       "        'Embarked_Q', 'Embarked_S', 'Deck_A', 'Deck_B', 'Deck_C', 'Deck_D',\n",
       "        'Deck_E', 'Deck_F', 'Deck_G', 'Deck_M', 'Family_group_Alone',\n",
       "        'Family_group_Small', 'Family_group_Large'],\n",
       "       dtype='object'))"
      ]
     },
     "execution_count": 65,
     "metadata": {},
     "output_type": "execute_result"
    }
   ],
   "source": [
    "# 문제의 개수가 다르니 train만 가지고 있는 특성은 뭔지 확인해보자\n",
    "X_train.columns, X_test.columns"
   ]
  },
  {
   "cell_type": "markdown",
   "id": "0ca76530-487d-4e97-b12f-3d5d131bdec0",
   "metadata": {},
   "source": [
    "- 특성 개수 맞추기\n",
    "  - 부족한 컬럼명을 확인해서 추가하기\n",
    "    1) 컬럼명을 확인해서 다른점 찾기\n",
    "    2) set() 집합 자료구조 활용해서 찾아보기\n",
    "* Deck_T 라는 컬럼이 train 데이터에만 포함되어 있다!\n",
    "* test도 Deck_t 라는 컬럼을 가질 수 있도록 새롭게 생성!\n",
    "* 초기화는 0으로 진행"
   ]
  },
  {
   "cell_type": "code",
   "execution_count": 66,
   "id": "ded5858c-556e-4811-bc28-456c17e3590b",
   "metadata": {},
   "outputs": [
    {
     "data": {
      "text/plain": [
       "{'Deck_T'}"
      ]
     },
     "execution_count": 66,
     "metadata": {},
     "output_type": "execute_result"
    }
   ],
   "source": [
    "# 여기 오류 고치고 하삼\n",
    "set(X_train.columns) - set(X_test.columns)  # 차집합! X_train에서 X_test가 가지고 있지 않은게 나올 것"
   ]
  },
  {
   "cell_type": "code",
   "execution_count": 67,
   "id": "8a6a9546-119b-4952-a041-97bab320dedb",
   "metadata": {
    "scrolled": true
   },
   "outputs": [
    {
     "name": "stdout",
     "output_type": "stream",
     "text": [
      "<class 'pandas.core.frame.DataFrame'>\n",
      "Index: 891 entries, 1 to 891\n",
      "Data columns (total 20 columns):\n",
      " #   Column              Non-Null Count  Dtype  \n",
      "---  ------              --------------  -----  \n",
      " 0   Pclass              891 non-null    int64  \n",
      " 1   Age                 891 non-null    int64  \n",
      " 2   Fare                891 non-null    float64\n",
      " 3   Sex_female          891 non-null    bool   \n",
      " 4   Sex_male            891 non-null    bool   \n",
      " 5   Embarked_C          891 non-null    bool   \n",
      " 6   Embarked_Q          891 non-null    bool   \n",
      " 7   Embarked_S          891 non-null    bool   \n",
      " 8   Deck_A              891 non-null    bool   \n",
      " 9   Deck_B              891 non-null    bool   \n",
      " 10  Deck_C              891 non-null    bool   \n",
      " 11  Deck_D              891 non-null    bool   \n",
      " 12  Deck_E              891 non-null    bool   \n",
      " 13  Deck_F              891 non-null    bool   \n",
      " 14  Deck_G              891 non-null    bool   \n",
      " 15  Deck_M              891 non-null    bool   \n",
      " 16  Deck_T              891 non-null    bool   \n",
      " 17  Family_group_Alone  891 non-null    bool   \n",
      " 18  Family_group_Small  891 non-null    bool   \n",
      " 19  Family_group_Large  891 non-null    bool   \n",
      "dtypes: bool(17), float64(1), int64(2)\n",
      "memory usage: 42.6 KB\n",
      "<class 'pandas.core.frame.DataFrame'>\n",
      "Index: 418 entries, 892 to 1309\n",
      "Data columns (total 20 columns):\n",
      " #   Column              Non-Null Count  Dtype  \n",
      "---  ------              --------------  -----  \n",
      " 0   Pclass              418 non-null    int64  \n",
      " 1   Age                 418 non-null    int64  \n",
      " 2   Fare                418 non-null    float64\n",
      " 3   Sex_female          418 non-null    bool   \n",
      " 4   Sex_male            418 non-null    bool   \n",
      " 5   Embarked_C          418 non-null    bool   \n",
      " 6   Embarked_Q          418 non-null    bool   \n",
      " 7   Embarked_S          418 non-null    bool   \n",
      " 8   Deck_A              418 non-null    bool   \n",
      " 9   Deck_B              418 non-null    bool   \n",
      " 10  Deck_C              418 non-null    bool   \n",
      " 11  Deck_D              418 non-null    bool   \n",
      " 12  Deck_E              418 non-null    bool   \n",
      " 13  Deck_F              418 non-null    bool   \n",
      " 14  Deck_G              418 non-null    bool   \n",
      " 15  Deck_M              418 non-null    bool   \n",
      " 16  Family_group_Alone  418 non-null    bool   \n",
      " 17  Family_group_Small  418 non-null    bool   \n",
      " 18  Family_group_Large  418 non-null    bool   \n",
      " 19  Deck_T              418 non-null    int64  \n",
      "dtypes: bool(16), float64(1), int64(3)\n",
      "memory usage: 22.9 KB\n"
     ]
    }
   ],
   "source": [
    "# X_test에 Deck_T라는 컬럼을 새롭게 만들어주가\n",
    "# X_Test에는 T값을 가진 행이 없으므로 다 ~ 0으로 초괴화를 시켜주자\n",
    "X_test['Deck_T'] = 0\n",
    "X_test['Deck_T'] #테스트 데이터에 0으로 다 만들어준 것을 확인할 수 있음!\n",
    "\n",
    "X_train.info()\n",
    "X_test.info()"
   ]
  },
  {
   "cell_type": "code",
   "execution_count": 68,
   "id": "b5faf64f-d89c-4924-835f-1e082ba1bbc0",
   "metadata": {},
   "outputs": [],
   "source": [
    "# X_train의 컬럼 순서와 X_test의 컬럼의 순서가 다름\n",
    "# X_train 컬럼 순서대로 자동 인덱싱\n",
    "X_test = X_test[X_train.columns] #X_test의 순서가 X_train의 컬럼 순서에 맞춰 다시 인덱싱될 예정"
   ]
  },
  {
   "cell_type": "code",
   "execution_count": 69,
   "id": "9839ee73-972e-4fc1-8ea8-5605c0006c02",
   "metadata": {},
   "outputs": [
    {
     "name": "stdout",
     "output_type": "stream",
     "text": [
      "(891, 20) (891,)\n",
      "(418, 20)\n"
     ]
    }
   ],
   "source": [
    "print(X_train.shape, y_train.shape)\n",
    "print(X_test.shape)"
   ]
  },
  {
   "cell_type": "markdown",
   "id": "ba3ed688-499b-44f7-92df-c6f02736354c",
   "metadata": {},
   "source": [
    "## 모델 선택 및 학습"
   ]
  },
  {
   "cell_type": "code",
   "execution_count": 70,
   "id": "b2f9033b-fcc3-4288-8d5e-7311ebb59a1e",
   "metadata": {},
   "outputs": [],
   "source": [
    "# 필요한 라이브러리 가져오기\n",
    "from sklearn.tree import DecisionTreeClassifier\n",
    "# 교차 검증\n",
    "from sklearn.model_selection import cross_val_score # 교차 검증"
   ]
  },
  {
   "cell_type": "code",
   "execution_count": 71,
   "id": "d3572bb9-3c08-423a-b520-8952dd95d569",
   "metadata": {},
   "outputs": [],
   "source": [
    "# 모델 객체 생성\n",
    "# 하이퍼 파라밈터 설정 X\n",
    "tree_model = DecisionTreeClassifier()"
   ]
  },
  {
   "cell_type": "code",
   "execution_count": 72,
   "id": "18111390-ca0c-485c-b17d-d693478d7e57",
   "metadata": {},
   "outputs": [
    {
     "data": {
      "text/plain": [
       "0.7845584081350825"
      ]
     },
     "execution_count": 72,
     "metadata": {},
     "output_type": "execute_result"
    }
   ],
   "source": [
    "# 어느정도 성능을 내는지 교차검증 5번을 통해 확인 (일반화)\n",
    "# cross_val_score(모델명, 훈련용 문제, 훈련용 정답, cv = 교차 검증 횟수)\n",
    "cv_result = cross_val_score(tree_model, X_train, y_train, cv = 5)\n",
    "cv_result.mean()\n",
    "# 평균적으로 78%의 성능을 내고 있군\n",
    "# test 데이터에서는 조금 더 정확도가 떨어질 수도 있겠다.."
   ]
  },
  {
   "cell_type": "code",
   "execution_count": 73,
   "id": "a7facc8d-155d-436c-aa76-033155ad0413",
   "metadata": {
    "scrolled": true
   },
   "outputs": [],
   "source": [
    "# 모델 학습 - 학습용 데이터 (문제, 정답)\n",
    "# 모델명.fit(훈련 문제, 훈련 정답)\n",
    "tree_model.fit(X_train, y_train)\n",
    "# 예측 (pre) - 테스트용 predict\n",
    "# pre = 모델명.predict(정답 데이터)\n",
    "pre = tree_model.predict(X_test)\n",
    "# pre"
   ]
  },
  {
   "cell_type": "code",
   "execution_count": 74,
   "id": "50b71492-2335-4e0f-901f-b517b10c3d3f",
   "metadata": {},
   "outputs": [],
   "source": [
    "# kaggle 제출 - submission.csv 불러오기\n",
    "result = pd.read_csv('data/gender_submission.csv')\n",
    "# submission - Survived 컬럼에 pre 값을 대입시켜주기\n",
    "result['Survived'] = pre\n",
    "# csv로 저장. to_csv (index = False) - tree_model_01.csv\n",
    "result.to_csv('data/tree_model_01.csv', index = False)"
   ]
  },
  {
   "cell_type": "markdown",
   "id": "450942c0-2043-4927-ad09-fe7b9cf426af",
   "metadata": {},
   "source": [
    "- tree model의 하이퍼 파라미터를 조정 (max_depth : 최대 깊이)"
   ]
  },
  {
   "cell_type": "code",
   "execution_count": 75,
   "id": "4856f6f2-cc0a-4586-8436-caa2d70a86ac",
   "metadata": {},
   "outputs": [
    {
     "name": "stdout",
     "output_type": "stream",
     "text": [
      "depth:1 0.7867365513778168\n",
      "depth:2 0.773316176009039\n",
      "depth:3 0.8013370158809867\n",
      "depth:4 0.8092524009792228\n",
      "depth:5 0.8159312033142928\n",
      "depth:6 0.8159500345238844\n",
      "depth:7 0.8137028435126483\n",
      "depth:8 0.8114556525014123\n",
      "depth:9 0.8081099742640137\n"
     ]
    }
   ],
   "source": [
    "# 교차 검증을 하면서 하이퍼 파라미터 조정 확인해보기! (1~9)\n",
    "for md in range(1, 10) :\n",
    "    # md 값으로 하이퍼 파라미터 조정 확인\n",
    "    tree_model = DecisionTreeClassifier(max_depth= md)\n",
    "    # 교차검증 5번 진행했을 시의 값 담아주기\n",
    "    result = cross_val_score(tree_model, X_train, y_train, cv = 5)  # 5개의 정확도\n",
    "    # 출력문, depth:{}, 평균값\n",
    "    print(f'depth:{md}', result.mean())\n",
    "\n",
    "# 6이 제일 높네"
   ]
  },
  {
   "cell_type": "code",
   "execution_count": 76,
   "id": "de6bc9a2-db94-4a4b-aaee-fbb427f9274e",
   "metadata": {},
   "outputs": [],
   "source": [
    "# tree_model2 객체 생성\n",
    "# 하이퍼 파라미터 max_depth를 위에서 가장 높은 정확도를 내고 있는 값으로 설정\n",
    "tree_model2 = DecisionTreeClassifier(max_depth = 6)"
   ]
  },
  {
   "cell_type": "code",
   "execution_count": 77,
   "id": "34aca7db-707e-4236-8d4c-fd2f0de9cef3",
   "metadata": {},
   "outputs": [],
   "source": [
    "# 학습\n",
    "tree_model2.fit(X_train, y_train)\n",
    "# 예측\n",
    "pre2 = tree_model2.predict(X_test)\n",
    "# 모델 답안지 초기화 - tree_model_02.csv\n",
    "result2 = pd.read_csv('data/gender_submission.csv')\n",
    "result2['Survived'] = pre2\n",
    "result2.to_csv('data/tree_model_02.csv', index = False)"
   ]
  },
  {
   "cell_type": "code",
   "execution_count": 78,
   "id": "b573d4b4-f7d4-4106-8ee5-d59a4f907769",
   "metadata": {},
   "outputs": [
    {
     "data": {
      "text/plain": [
       "array([0.12553847, 0.11329501, 0.11260364, 0.        , 0.50124265,\n",
       "       0.00300908, 0.        , 0.00263191, 0.        , 0.        ,\n",
       "       0.        , 0.        , 0.01506357, 0.        , 0.        ,\n",
       "       0.05679392, 0.        , 0.        , 0.06982175, 0.        ])"
      ]
     },
     "execution_count": 78,
     "metadata": {},
     "output_type": "execute_result"
    }
   ],
   "source": [
    "# tree_model2 가 어떤 특성을 중요하게 생각하는지 특성 중요도 그래프\n",
    "fi = tree_model2.feature_importances_\n",
    "fi"
   ]
  },
  {
   "cell_type": "code",
   "execution_count": 79,
   "id": "5cd16f30-5d1b-43b7-80f6-3f6889260095",
   "metadata": {
    "scrolled": true
   },
   "outputs": [],
   "source": [
    "fi_s = pd.Series(fi, index = X_train.columns)\n",
    "# 가장 슨 수치를 가진 컬럼이 가장 중요,, 그 첫번째 질문,,"
   ]
  },
  {
   "cell_type": "code",
   "execution_count": 80,
   "id": "7e4b647c-dbd2-4083-96f8-2066cc86bdb8",
   "metadata": {},
   "outputs": [
    {
     "data": {
      "image/png": "[encoded data removed]",
      "text/plain": [
       "<Figure size 500x700 with 1 Axes>"
      ]
     },
     "metadata": {},
     "output_type": "display_data"
    }
   ],
   "source": [
    "plt.figure(figsize = (5, 7))\n",
    "fi_s.sort_values(ascending = True).plot.barh()\n",
    "plt.show()"
   ]
  },
  {
   "cell_type": "markdown",
   "id": "4758579e-fc30-48a1-8f9c-e0bc6a59f1c7",
   "metadata": {},
   "source": [
    "- 모델 스케일링 (범위)\n",
    "- 앙상블 (모델 여러 개를 한 번에 사용해서)"
   ]
  },
  {
   "cell_type": "markdown",
   "id": "90c59804-2d74-40eb-acfa-b495a4cbcfb9",
   "metadata": {},
   "source": [
    "- KNN Model을 사용해서 정확도를 확인해보자"
   ]
  },
  {
   "cell_type": "code",
   "execution_count": 81,
   "id": "19241521-9cc6-4918-957e-3df2570f5e53",
   "metadata": {},
   "outputs": [
    {
     "name": "stdout",
     "output_type": "stream",
     "text": [
      "[0.67039106 0.66853933 0.70224719 0.71348315 0.71348315]\n"
     ]
    }
   ],
   "source": [
    "# KNN 모델을 생성\n",
    "from sklearn.neighbors import KNeighborsClassifier\n",
    "# KNN 모델 하이퍼 파라미터는 따로 조정하지 않겠습니다.\n",
    "knn_model = KNeighborsClassifier()\n",
    "# 교차 검증 5번 - 정확도 평균 print\n",
    "result2 = cross_val_score(knn_model, X_train, y_train, cv = 5)\n",
    "print(result2)\n",
    "# 학습\n",
    "knn_model.fit(X_train, y_train)\n",
    "# 예측 결과 - pre\n",
    "pre = knn_model.predict(X_test)\n",
    "# summision.csv - 답안지 - data 폴더에 파일 뺴주는 작업\n",
    "sm = pd.read_csv('data/gender_submission.csv')\n",
    "sm['Survived'] = pre\n",
    "sm.to_csv('data/knn_model_01.csv', index = False)\n",
    "                \n",
    "# kaggle 제출"
   ]
  },
  {
   "cell_type": "markdown",
   "id": "d779db32-69a7-4de7-9811-8420d9716a54",
   "metadata": {},
   "source": [
    "## 결과 \n",
    "- KNN : 64%\n",
    "- DT : 72.24%\n",
    "- 결과 해석 : 성능 개선\n",
    "  - 데이터의 양을 늘리기\n",
    "  - 전처리 방식 수정\n",
    "  - 모델의 하이퍼 파라미터 조절 (5% 내외로 성능이 올라감)"
   ]
  },
  {
   "cell_type": "code",
   "execution_count": 82,
   "id": "7bfa34fb-b169-4312-8475-58913776253f",
   "metadata": {},
   "outputs": [],
   "source": [
    "# KNN 모델은 알고리즘이 간단한 대신에 성능이 좋지 못하다\n",
    "# train에서는 70 정도의 성능 실제로 평가를 진행했을 때 64%의 성능을 보이는 것으로 보아\n",
    "# 과소적합 현상이 일어나고 있다\n",
    "\n",
    "# DT train은 어느정도 높은 성을 내고 있으나, 평가를 진행했을 때 갑자기\n",
    "# 15~18% 정도 떨어지는 정확도를 확인할 수 있었다.\n",
    "# 이를 통해 DT같은 경우 과대 적합이 일어나고 있다."
   ]
  },
  {
   "cell_type": "markdown",
   "id": "b8fe7dca-098c-4e1f-8c0b-50e3b4aa228e",
   "metadata": {},
   "source": [
    "### 데이터 스케일링\n",
    "- 데이터의 범위를 조정\n",
    "\n",
    "- feature들의 데이터 분포, 범위를 동일하게 조정하는 작업\n",
    "- 거리, 수치 기반의 학습을 진행하는 모델에게 적용\n",
    "\n",
    "- 장점 : 범위를 일정하게 맞추어 모델이 데이터를 더 쉽게 처리하고, 모델 성능 향상으로 이어질 수 있다.\n",
    "- 단점 : 원래 데이터가 가지고 있는 값이 변경되기 때문에 왜곡될 수 있다.\n",
    "  (원래 범위를 유지하는게 더 좋아도 판단된다면 스케일링을 하지 않는게 왜곡을 방지할 수 있음)"
   ]
  },
  {
   "cell_type": "markdown",
   "id": "2cd23869-efee-4fe1-bbc6-8978e387be4a",
   "metadata": {},
   "source": [
    "1) StandardScaler\n",
    "   - 분산의 정도를 1로 평균은 0으로 맞춰주는 작업\n",
    "   - 민감도가 높다\n",
    "2) MinMaxScaler\n",
    "   - 분산의 정보를 0으로 평균은 1로 맞춰주는 작업\n",
    "   - 민감도가 낮음"
   ]
  },
  {
   "cell_type": "code",
   "execution_count": 83,
   "id": "300533c9-f94f-4479-809b-e2d65bca9525",
   "metadata": {},
   "outputs": [],
   "source": [
    "# 라이브러리 가져오기\n",
    "from sklearn.preprocessing import StandardScaler, MinMaxScaler"
   ]
  },
  {
   "cell_type": "code",
   "execution_count": 84,
   "id": "7344fcca-ba4d-4bc5-abab-6a2810cb429b",
   "metadata": {},
   "outputs": [],
   "source": [
    "st_sc = StandardScaler()\n",
    "mm_sc = MinMaxScaler()"
   ]
  },
  {
   "cell_type": "code",
   "execution_count": 85,
   "id": "48217fc6-75ce-469b-bfa9-109caadd4913",
   "metadata": {},
   "outputs": [],
   "source": [
    "# st_sc, mm_sc 가 데이터에 대해 이해할 수 있도록 학습 - fit\n",
    "st_sc.fit(X_train)\n",
    "mm_sc.fit(X_train)\n",
    "\n",
    "# 스케일러가 데이터에 대한 이해가 완료되었으면, 변환하는 작업 - transform\n",
    "st_X_train = st_sc.transform(X_train)\n",
    "mm_X_train = mm_sc.transform(X_train) # fare 0 ~ 1\n",
    "\n",
    "# train 데이터가 범위 조정이 되었으면, test 데이터도 같이 범위 조정이 되어져야 한다\n",
    "st_X_test = st_sc.transform(X_test)\n",
    "mm_X_test = mm_sc.transform(X_test)\n"
   ]
  },
  {
   "cell_type": "code",
   "execution_count": 86,
   "id": "ae3bfcbd-5002-44c8-b4aa-8a46fcddf5ce",
   "metadata": {},
   "outputs": [
    {
     "name": "stdout",
     "output_type": "stream",
     "text": [
      "[0.79329609 0.76966292 0.80898876 0.80337079 0.83146067] 0.8013558470905782\n",
      "[0.80446927 0.78089888 0.83707865 0.82022472 0.81460674] 0.8114556525014123\n"
     ]
    }
   ],
   "source": [
    "# 스케일링은 거리 계싼, 확률 계산을 하는 모델에 적용할 수 있는 개념으로써 위에 만들어놨던 \n",
    "# KNN 모델을 사용해서 교차 검증을 진행해보자!\n",
    "\n",
    "st_result = cross_val_score(knn_model, st_X_train, y_train, cv = 5)\n",
    "mm_result = cross_val_score(knn_model, mm_X_train, y_train, cv = 5)\n",
    "\n",
    "print(st_result, st_result.mean())\n",
    "print(mm_result, mm_result.mean())\n"
   ]
  },
  {
   "cell_type": "markdown",
   "id": "0f86e8df-92f8-45e6-b52d-6325c74fade4",
   "metadata": {},
   "source": [
    "## 앙상블\n",
    "- 여러 모델을 결합하는 방식으로 활용하며, 성능을 올리는 기법\n",
    "  1) 보팅 (Vothing)\n",
    "     - 여러 개의 다른 종류의 모델이 예측한 결과를 투표 혹은 평균을 통해 최종 결정을 하는 방식\n",
    "       1. 하드 보팅 (Hard-Voting) : 투표 (다수결)\n",
    "       2. 소프트 보팅 (Soft-Voting) : 확률값을 통한 결정\n",
    "  2) 배깅 (Bagging)\n",
    "     - 여러 개의 같은 종류의 모델이 예측한 결과를 투표 혹은 평균을 통해 최종 결정을 하는 방식\n",
    "     - 대표 모델 : RandomForest (Decision Tree를 여러 개 사용하는 모델)\n",
    "  3) 부스팅 (Boosting)\n",
    "     - 여러 모델을 순차적으로 학습을 시켜 이전 모델의 오류를 보정한다.\n",
    "     - AdaBoost, GradientBoost\n",
    "     - 후속 모델이 이전 모델의 잘못된 예측을 수정하면서 성능이 점점 좋아지는 현상 "
   ]
  },
  {
   "cell_type": "code",
   "execution_count": 87,
   "id": "b56f3155-cb53-4575-b404-2a16edb49b68",
   "metadata": {},
   "outputs": [],
   "source": [
    "# 보팅 도구 불러오기\n",
    "from sklearn.ensemble import VotingClassifier\n",
    "# 확률값들을 계산하는 모델들도 같이 불러오기\n",
    "from sklearn.linear_model import LogisticRegression # 선영 분류 모델\n",
    "from sklearn.svm import SVC # 서포트 벡터 머신"
   ]
  },
  {
   "cell_type": "code",
   "execution_count": 88,
   "id": "6514f72e-dcf3-4750-8856-84901b390ee7",
   "metadata": {},
   "outputs": [],
   "source": [
    "# LogisticRegression: 로지스틱 회귀  (분류만 가능한 모델)\n",
    "# 분류 알고리즘 중 하나로, 주어진 데이터가 특정 분류에 속할 확률을 추정\n",
    "# 결과값이 0~2 사이의 값, 0.5를 기준으로 특정 클래스에 속할 확률을 나타낸다.\n",
    "# max_iter 알고리즘이 수렴할 떄까지 반복하는 최대 횟수를 지정 (학습의 빈도수를 지정하는 하이퍼 파라미터)\n",
    "\n",
    "# SVC : 스포트 벡터 머신\n",
    "# 결정 경계썬(또는 면)을 만들어서 새로운 데이터의 포인트가 어느 클래스에 속하는지 예측하는 모델\n",
    "# 확률값을 제공하진 않음\n",
    "# rpobability true로 바꿔주면 확률값을 확인할 수 있다.\n",
    "\n",
    "log_clf = LogisticRegression(max_iter = 10000)\n",
    "svm_clf = SVC(probability=True) #확률을 확인해보자\n"
   ]
  },
  {
   "cell_type": "code",
   "execution_count": 89,
   "id": "2e351d3b-475b-48b0-a788-d6e7a5f82e68",
   "metadata": {},
   "outputs": [
    {
     "data": {
      "text/plain": [
       "0.7060071558596447"
      ]
     },
     "execution_count": 89,
     "metadata": {},
     "output_type": "execute_result"
    }
   ],
   "source": [
    "# 하드 보팅 분류기\n",
    "hard_voting_clf = VotingClassifier(\n",
    "    # 모델\n",
    "    estimators=[('lr', log_clf), ('svc', svm_clf)],\n",
    "    # 보팅 방식 지정 (hard)\n",
    "    voting = 'hard'\n",
    ")\n",
    "# 학습\n",
    "hard_voting_clf.fit(X_train, y_train)\n",
    "# 검증\n",
    "cross_val_score(hard_voting_clf, X_train, y_train, cv = 5).mean()"
   ]
  },
  {
   "cell_type": "code",
   "execution_count": null,
   "id": "f7ba527c-ef5d-4050-88e5-b2a555c819f1",
   "metadata": {},
   "outputs": [],
   "source": []
  },
  {
   "cell_type": "code",
   "execution_count": null,
   "id": "e864bd23-7a27-45ef-9158-b32fed621187",
   "metadata": {},
   "outputs": [],
   "source": []
  },
  {
   "cell_type": "code",
   "execution_count": null,
   "id": "2470a924-5295-435e-b76a-212b644fb44d",
   "metadata": {},
   "outputs": [],
   "source": []
  },
  {
   "cell_type": "code",
   "execution_count": null,
   "id": "bc568633-2466-4737-b58d-bc936052c900",
   "metadata": {},
   "outputs": [],
   "source": []
  },
  {
   "cell_type": "code",
   "execution_count": null,
   "id": "6671cc90-c561-4639-bec7-55e5498c6cb2",
   "metadata": {},
   "outputs": [],
   "source": []
  }
 ],
 "metadata": {
  "kernelspec": {
   "display_name": "Python 3 (ipykernel)",
   "language": "python",
   "name": "python3"
  },
  "language_info": {
   "codemirror_mode": {
    "name": "ipython",
    "version": 3
   },
   "file_extension": ".py",
   "mimetype": "text/x-python",
   "name": "python",
   "nbconvert_exporter": "python",
   "pygments_lexer": "ipython3",
   "version": "3.11.7"
  }
 },
 "nbformat": 4,
 "nbformat_minor": 5
}
